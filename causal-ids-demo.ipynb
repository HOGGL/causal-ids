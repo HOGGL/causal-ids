{
 "cells": [
  {
   "cell_type": "markdown",
   "id": "5b83b616-4f34-4cd5-b75f-8da6c069f360",
   "metadata": {},
   "source": [
    "    This Source Code Form is subject to the terms of the Mozilla Public\n",
    "    License, v. 2.0. If a copy of the MPL was not distributed with this\n",
    "    file, You can obtain one at http://mozilla.org/MPL/2.0/."
   ]
  },
  {
   "cell_type": "markdown",
   "id": "1de58542-4bee-4916-9bed-a912b6d4983f",
   "metadata": {},
   "source": [
    "# Load and preprocess dataset"
   ]
  },
  {
   "cell_type": "markdown",
   "id": "e7b4f8c7-e0d2-4f66-8607-f61992e9c9f6",
   "metadata": {},
   "source": [
    "Load the dataset skipping some columns. This time use the category datatype for the classification column."
   ]
  },
  {
   "cell_type": "code",
   "execution_count": 1,
   "id": "cbe57083-9219-4374-9623-d6b3345b04f9",
   "metadata": {
    "tags": []
   },
   "outputs": [],
   "source": [
    "import pandas as pd\n",
    "from sklearn.preprocessing import StandardScaler"
   ]
  },
  {
   "cell_type": "code",
   "execution_count": 2,
   "id": "6f64aac2-d8a2-4358-b044-b1cd9fa966e8",
   "metadata": {
    "tags": []
   },
   "outputs": [],
   "source": [
    "csv_file = 'datasets/netflow-v1/NF-BoT-IoT.csv'\n",
    "ignore_cols = {'IPV4_SRC_ADDR', 'IPV4_DST_ADDR', 'Label'}"
   ]
  },
  {
   "cell_type": "code",
   "execution_count": 3,
   "id": "08827fec-86e2-41c1-a214-a5635a603b80",
   "metadata": {
    "tags": []
   },
   "outputs": [
    {
     "data": {
      "text/html": [
       "<div>\n",
       "<style scoped>\n",
       "    .dataframe tbody tr th:only-of-type {\n",
       "        vertical-align: middle;\n",
       "    }\n",
       "\n",
       "    .dataframe tbody tr th {\n",
       "        vertical-align: top;\n",
       "    }\n",
       "\n",
       "    .dataframe thead th {\n",
       "        text-align: right;\n",
       "    }\n",
       "</style>\n",
       "<table border=\"1\" class=\"dataframe\">\n",
       "  <thead>\n",
       "    <tr style=\"text-align: right;\">\n",
       "      <th></th>\n",
       "      <th>L4_SRC_PORT</th>\n",
       "      <th>L4_DST_PORT</th>\n",
       "      <th>PROTOCOL</th>\n",
       "      <th>L7_PROTO</th>\n",
       "      <th>IN_BYTES</th>\n",
       "      <th>OUT_BYTES</th>\n",
       "      <th>IN_PKTS</th>\n",
       "      <th>OUT_PKTS</th>\n",
       "      <th>TCP_FLAGS</th>\n",
       "      <th>FLOW_DURATION_MILLISECONDS</th>\n",
       "      <th>Attack</th>\n",
       "    </tr>\n",
       "  </thead>\n",
       "  <tbody>\n",
       "    <tr>\n",
       "      <th>0</th>\n",
       "      <td>52670</td>\n",
       "      <td>53</td>\n",
       "      <td>17</td>\n",
       "      <td>5.212</td>\n",
       "      <td>71</td>\n",
       "      <td>126</td>\n",
       "      <td>1</td>\n",
       "      <td>1</td>\n",
       "      <td>0</td>\n",
       "      <td>4294966</td>\n",
       "      <td>Benign</td>\n",
       "    </tr>\n",
       "    <tr>\n",
       "      <th>1</th>\n",
       "      <td>49160</td>\n",
       "      <td>4444</td>\n",
       "      <td>6</td>\n",
       "      <td>0.000</td>\n",
       "      <td>217753000</td>\n",
       "      <td>199100</td>\n",
       "      <td>4521</td>\n",
       "      <td>4049</td>\n",
       "      <td>24</td>\n",
       "      <td>4176249</td>\n",
       "      <td>Theft</td>\n",
       "    </tr>\n",
       "    <tr>\n",
       "      <th>2</th>\n",
       "      <td>3456</td>\n",
       "      <td>80</td>\n",
       "      <td>17</td>\n",
       "      <td>0.000</td>\n",
       "      <td>8508021</td>\n",
       "      <td>8918372</td>\n",
       "      <td>9086</td>\n",
       "      <td>9086</td>\n",
       "      <td>0</td>\n",
       "      <td>4175916</td>\n",
       "      <td>Benign</td>\n",
       "    </tr>\n",
       "    <tr>\n",
       "      <th>3</th>\n",
       "      <td>80</td>\n",
       "      <td>8080</td>\n",
       "      <td>6</td>\n",
       "      <td>7.000</td>\n",
       "      <td>8442138</td>\n",
       "      <td>9013406</td>\n",
       "      <td>9086</td>\n",
       "      <td>9086</td>\n",
       "      <td>0</td>\n",
       "      <td>4175916</td>\n",
       "      <td>Benign</td>\n",
       "    </tr>\n",
       "    <tr>\n",
       "      <th>4</th>\n",
       "      <td>80</td>\n",
       "      <td>80</td>\n",
       "      <td>6</td>\n",
       "      <td>7.000</td>\n",
       "      <td>8374706</td>\n",
       "      <td>0</td>\n",
       "      <td>9086</td>\n",
       "      <td>0</td>\n",
       "      <td>0</td>\n",
       "      <td>4175916</td>\n",
       "      <td>Benign</td>\n",
       "    </tr>\n",
       "  </tbody>\n",
       "</table>\n",
       "</div>"
      ],
      "text/plain": [
       "   L4_SRC_PORT  L4_DST_PORT  PROTOCOL  L7_PROTO   IN_BYTES  OUT_BYTES  \\\n",
       "0        52670           53        17     5.212         71        126   \n",
       "1        49160         4444         6     0.000  217753000     199100   \n",
       "2         3456           80        17     0.000    8508021    8918372   \n",
       "3           80         8080         6     7.000    8442138    9013406   \n",
       "4           80           80         6     7.000    8374706          0   \n",
       "\n",
       "   IN_PKTS  OUT_PKTS  TCP_FLAGS  FLOW_DURATION_MILLISECONDS  Attack  \n",
       "0        1         1          0                     4294966  Benign  \n",
       "1     4521      4049         24                     4176249   Theft  \n",
       "2     9086      9086          0                     4175916  Benign  \n",
       "3     9086      9086          0                     4175916  Benign  \n",
       "4     9086         0          0                     4175916  Benign  "
      ]
     },
     "execution_count": 3,
     "metadata": {},
     "output_type": "execute_result"
    }
   ],
   "source": [
    "df = pd.read_csv(csv_file,\n",
    "                 usecols=lambda x: x not in ignore_cols,\n",
    "                 dtype={'Attack': 'category'})\n",
    "df.head()"
   ]
  },
  {
   "cell_type": "markdown",
   "id": "88b535e9-42f9-4cc1-849e-5d8c0263fb3a",
   "metadata": {},
   "source": [
    "The decision tree and random forest classifiers work best with unnormalised data but the VAE requires inputs to conform to a standard normal distribution.\n",
    "This is done using the `transform` and `inverse_transform` methods from the `StandardScaler` class. Before use, the scaler must be 'fit' to the data to caluclate the mean and standard deviation for each feature."
   ]
  },
  {
   "cell_type": "code",
   "execution_count": 4,
   "id": "aa5f573b-25a7-4057-80ce-0e93dca44f58",
   "metadata": {
    "tags": []
   },
   "outputs": [],
   "source": [
    "scaler = StandardScaler().fit(df.iloc[:,:-1])"
   ]
  },
  {
   "cell_type": "markdown",
   "id": "e3067995-7ffa-43d7-b30b-89a10b650393",
   "metadata": {},
   "source": [
    "# Train classifier model"
   ]
  },
  {
   "cell_type": "code",
   "execution_count": 5,
   "id": "b70a7db8-2e96-4b8e-aa8c-e21b460d1447",
   "metadata": {
    "tags": []
   },
   "outputs": [],
   "source": [
    "from sklearn.model_selection import train_test_split\n",
    "from sklearn.metrics import classification_report\n",
    "from xgboost import XGBRFClassifier"
   ]
  },
  {
   "cell_type": "code",
   "execution_count": 6,
   "id": "ea6b970c-1807-4d51-a65f-63c3816beb20",
   "metadata": {
    "tags": []
   },
   "outputs": [],
   "source": [
    "X, y = df.iloc[:,:-1], df.iloc[:,-1].cat.codes\n",
    "X_train, X_test, y_train, y_test = train_test_split(X, y, random_state=42)"
   ]
  },
  {
   "cell_type": "code",
   "execution_count": 7,
   "id": "82a02929-1df7-45d2-bd2a-c0b3ec08740c",
   "metadata": {
    "tags": []
   },
   "outputs": [],
   "source": [
    "classifier = XGBRFClassifier(n_estimators=17, random_state=42)\n",
    "#classifier.fit(X_train, y_train);\n",
    "classifier.load_model('classifier_rf84pc.ubj')"
   ]
  },
  {
   "cell_type": "code",
   "execution_count": 8,
   "id": "d7f0984c-7b4a-4d79-af5b-709fc186d46b",
   "metadata": {
    "tags": []
   },
   "outputs": [
    {
     "name": "stdout",
     "output_type": "stream",
     "text": [
      "                precision    recall  f1-score   support\n",
      "\n",
      "        Benign       0.94      0.60      0.73      3383\n",
      "          DDoS       0.35      0.41      0.38     14123\n",
      "           DoS       0.41      0.56      0.47     14130\n",
      "Reconnaissance       0.98      0.93      0.96    117925\n",
      "         Theft       0.98      0.22      0.35       464\n",
      "\n",
      "      accuracy                           0.84    150025\n",
      "     macro avg       0.73      0.54      0.58    150025\n",
      "  weighted avg       0.87      0.84      0.85    150025\n",
      "\n"
     ]
    }
   ],
   "source": [
    "y_pred = classifier.predict(X_test)\n",
    "print(classification_report(y_test, y_pred, target_names=df.Attack.cat.categories))"
   ]
  },
  {
   "cell_type": "markdown",
   "id": "38290576-87b7-493c-a30d-b24bb7347ae4",
   "metadata": {
    "tags": []
   },
   "source": [
    "# Train explanation model"
   ]
  },
  {
   "cell_type": "markdown",
   "id": "50de84f1-10f8-413d-893a-42bb3358a11b",
   "metadata": {},
   "source": [
    "The VAE implementation is copied from the paper though the model was altered slightly to suit our dataset."
   ]
  },
  {
   "cell_type": "code",
   "execution_count": 9,
   "id": "6ea9eb3a-6c17-4113-b4cd-a118f819f6f1",
   "metadata": {
    "tags": []
   },
   "outputs": [],
   "source": [
    "import numpy as np\n",
    "import torch\n",
    "import torch.nn as nn\n",
    "\n",
    "from tqdm import tqdm"
   ]
  },
  {
   "cell_type": "markdown",
   "id": "dcf70d69-1cae-4794-b486-f4e5093b8e58",
   "metadata": {},
   "source": [
    "The encoder takes a batch of rows (32 by default) from the training dataset. This is fed forward into a hidden layer first and then into two fully connected layers with outputs of size `z_dim`, which is the size of the latent vector. This is then used to parameterise a normal distribution, which is sampled from to produce the output latents."
   ]
  },
  {
   "cell_type": "code",
   "execution_count": 10,
   "id": "d83ff3ec-5869-4e02-bc95-872e0bb7b96e",
   "metadata": {
    "tags": []
   },
   "outputs": [],
   "source": [
    "class Encoder(nn.Module):\n",
    "    def __init__(self, x_dim, z_dim, hidden_dim=100):\n",
    "        super().__init__()\n",
    "\n",
    "        self.model = nn.Sequential(\n",
    "            nn.Linear(int(x_dim),hidden_dim),\n",
    "            nn.Sigmoid()\n",
    "        )\n",
    "        \n",
    "        self.f_mu = nn.Linear(hidden_dim, z_dim)\n",
    "        self.f_var = nn.Linear(hidden_dim, z_dim)\n",
    "\n",
    "    def encode(self, X):\n",
    "        h1 = self.model(X)\n",
    "        return self.f_mu(h1),self.f_var(h1)\n",
    "    \n",
    "    def reparameterize(self, mu, logvar):\n",
    "        std = torch.exp(0.5*logvar)\n",
    "        eps = torch.randn_like(std)\n",
    "        return mu + eps*std\n",
    "    \n",
    "    def forward(self, X):\n",
    "        mu, logvar = self.encode(X)\n",
    "        z = self.reparameterize(mu, logvar)\n",
    "        return z, mu, logvar"
   ]
  },
  {
   "cell_type": "code",
   "execution_count": 11,
   "id": "5e26440f-d79a-44a5-9f4e-e0c38705ffd7",
   "metadata": {
    "tags": []
   },
   "outputs": [],
   "source": [
    "class Decoder(nn.Module):\n",
    "    def __init__(self, x_dim, z_dim, hidden_dim=100):\n",
    "        super().__init__()\n",
    "\n",
    "        self.model = nn.Sequential(\n",
    "            nn.Linear(z_dim,hidden_dim),\n",
    "            nn.ReLU(),\n",
    "            nn.Linear(hidden_dim,x_dim)\n",
    "        )\n",
    "\n",
    "    def forward(self, z):\n",
    "        X = self.model(z)\n",
    "        return X  "
   ]
  },
  {
   "cell_type": "code",
   "execution_count": 12,
   "id": "fa254293-539e-463e-a8cc-757835359d28",
   "metadata": {
    "tags": []
   },
   "outputs": [],
   "source": [
    "K = 2\n",
    "L = 8"
   ]
  },
  {
   "cell_type": "code",
   "execution_count": 13,
   "id": "b00be26a-b9ba-4328-b17e-eec9e1ff742a",
   "metadata": {
    "tags": []
   },
   "outputs": [],
   "source": [
    "X_train_norm = scaler.transform(X_train)\n",
    "train_loader = torch.utils.data.DataLoader(X_train_norm, batch_size=32)\n",
    "encoder = Encoder(X_train.shape[1], K+L)\n",
    "decoder = Decoder(X_train.shape[1], K+L)\n",
    "#decoder.cuda()\n",
    "#encoder.cuda();"
   ]
  },
  {
   "cell_type": "code",
   "execution_count": 14,
   "id": "ce2063a0-e106-4c7c-98cd-b485dc97c771",
   "metadata": {
    "tags": []
   },
   "outputs": [],
   "source": [
    "params = list(decoder.parameters()) + list(encoder.parameters())\n",
    "optimizer = torch.optim.Adam(params, lr=0.0001)"
   ]
  },
  {
   "cell_type": "code",
   "execution_count": 15,
   "id": "e0098700-aae4-42fc-9dbb-b83793e151f4",
   "metadata": {
    "tags": []
   },
   "outputs": [],
   "source": [
    "def calc_loss(X, Xhat, z_loc, z_scale):\n",
    "    batch_size = X.shape[0]\n",
    "    sse_loss = torch.nn.MSELoss(reduction = 'sum')\n",
    "    KLD = 1./batch_size + -0.5*torch.sum(1 + z_scale - z_loc.pow(2) - z_scale.exp())\n",
    "    Xhat = torch.Tensor(Xhat).cuda()\n",
    "    mse = 1./batch_size * sse_loss(Xhat, X)\n",
    "    return mse + KLD"
   ]
  },
  {
   "cell_type": "code",
   "execution_count": 16,
   "id": "45900314-1de7-4305-8e50-c577ba79641c",
   "metadata": {
    "tags": []
   },
   "outputs": [],
   "source": [
    "def reconstruct(Xnorm):\n",
    "    z, _, _ = encoder(torch.tensor(Xnorm).float())\n",
    "    Xhat = scaler.inverse_transform(decoder(z).detach())\n",
    "    return pd.DataFrame(Xhat, columns=X.columns)"
   ]
  },
  {
   "cell_type": "markdown",
   "id": "5c7be2b7-6a36-4375-acb7-34a262d69f11",
   "metadata": {},
   "source": [
    "This is the function from the paper to calculate the \"causal effect\" or mutual information between the causal latents and classifier result."
   ]
  },
  {
   "cell_type": "code",
   "execution_count": 17,
   "id": "9061a5e6-326a-49b0-a021-5301f46667da",
   "metadata": {
    "tags": []
   },
   "outputs": [],
   "source": [
    "eps = 1e-8\n",
    "\n",
    "def C(a: int, b: int, cats: int, *, independent=False, conditional=False):\n",
    "    I = 0.\n",
    "    qs = np.zeros(cats)\n",
    "    for _ in range(a):\n",
    "        alphas = np.random.randn(a)\n",
    "        latents = np.empty((b,K+L))\n",
    "\n",
    "        for j in range(b):\n",
    "            betas = np.random.randn(b)\n",
    "            latents[j] = np.concatenate((alphas, betas))\n",
    "\n",
    "        Xhat = reconstruct(latents)\n",
    "        yhat = classifier.predict_proba(Xhat)\n",
    "        \n",
    "        ps = np.sum(yhat, axis=0)\n",
    "        ps = ps / b / ps.max() # p(y | alpha)\n",
    "        ps_entropy = np.sum(ps * np.log(ps + eps))\n",
    "        I += ps_entropy / a\n",
    "        qs += ps / a # q(y)\n",
    "    qs_entropy = np.sum(qs * np.log(qs+eps))\n",
    "    I -= qs_entropy\n",
    "    return I"
   ]
  },
  {
   "cell_type": "code",
   "execution_count": 18,
   "id": "9a03385e-2ccc-4ee4-9945-c02aa9581e80",
   "metadata": {
    "tags": []
   },
   "outputs": [],
   "source": [
    "def train(use_cuda=False):\n",
    "    epoch_loss = 0.\n",
    "    \n",
    "    for X in tqdm(train_loader):\n",
    "        if use_cuda:\n",
    "            X = X.cuda()\n",
    "        X = X.float()\n",
    "        optimizer.zero_grad()\n",
    "        z, z_loc, z_scale = encoder(X)\n",
    "        Xhat = scaler.inverse_transform(decoder(z).cpu().detach())\n",
    "        loss = -C(K, L, df['Attack'].cat.categories.size) + 0.05 * calc_loss(X, Xhat, z_loc, z_scale)\n",
    "        loss.backward()\n",
    "        optimizer.step()\n",
    "        epoch_loss += loss\n",
    "    return epoch_loss / train_loader.dataset.shape[0]"
   ]
  },
  {
   "cell_type": "code",
   "execution_count": 19,
   "id": "2016f325-d705-40b1-b600-0dea36ebf7c5",
   "metadata": {
    "tags": []
   },
   "outputs": [
    {
     "data": {
      "text/plain": [
       "<All keys matched successfully>"
      ]
     },
     "execution_count": 19,
     "metadata": {},
     "output_type": "execute_result"
    }
   ],
   "source": [
    "#train(True)\n",
    "encoder.load_state_dict(torch.load('explanation_enc53pc.pt', map_location='cpu'))\n",
    "decoder.load_state_dict(torch.load('explanation_dec53pc.pt', map_location='cpu'))"
   ]
  },
  {
   "cell_type": "code",
   "execution_count": 20,
   "id": "d153eb71-9ae4-40a4-9a33-2b69f761aeba",
   "metadata": {
    "tags": []
   },
   "outputs": [],
   "source": [
    "X_test_norm = scaler.transform(X_test)\n",
    "X_test_hat = reconstruct(X_test_norm)"
   ]
  },
  {
   "cell_type": "code",
   "execution_count": 21,
   "id": "32e8941b-0dac-4ada-9c68-a32a6f70e857",
   "metadata": {
    "tags": []
   },
   "outputs": [
    {
     "data": {
      "text/html": [
       "<div>\n",
       "<style scoped>\n",
       "    .dataframe tbody tr th:only-of-type {\n",
       "        vertical-align: middle;\n",
       "    }\n",
       "\n",
       "    .dataframe tbody tr th {\n",
       "        vertical-align: top;\n",
       "    }\n",
       "\n",
       "    .dataframe thead th {\n",
       "        text-align: right;\n",
       "    }\n",
       "</style>\n",
       "<table border=\"1\" class=\"dataframe\">\n",
       "  <thead>\n",
       "    <tr style=\"text-align: right;\">\n",
       "      <th></th>\n",
       "      <th>L4_SRC_PORT</th>\n",
       "      <th>L4_DST_PORT</th>\n",
       "      <th>PROTOCOL</th>\n",
       "      <th>L7_PROTO</th>\n",
       "      <th>IN_BYTES</th>\n",
       "      <th>OUT_BYTES</th>\n",
       "      <th>IN_PKTS</th>\n",
       "      <th>OUT_PKTS</th>\n",
       "      <th>TCP_FLAGS</th>\n",
       "      <th>FLOW_DURATION_MILLISECONDS</th>\n",
       "    </tr>\n",
       "  </thead>\n",
       "  <tbody>\n",
       "    <tr>\n",
       "      <th>0</th>\n",
       "      <td>50004.467965</td>\n",
       "      <td>9048.851282</td>\n",
       "      <td>7.188004</td>\n",
       "      <td>7.061000</td>\n",
       "      <td>-123226.982073</td>\n",
       "      <td>240938.418431</td>\n",
       "      <td>-119.518647</td>\n",
       "      <td>-8.881542</td>\n",
       "      <td>22.826868</td>\n",
       "      <td>3.579625e+06</td>\n",
       "    </tr>\n",
       "    <tr>\n",
       "      <th>1</th>\n",
       "      <td>43840.407964</td>\n",
       "      <td>13468.381312</td>\n",
       "      <td>7.879767</td>\n",
       "      <td>-6.253430</td>\n",
       "      <td>-595796.212587</td>\n",
       "      <td>-307462.466331</td>\n",
       "      <td>42.773664</td>\n",
       "      <td>49.957000</td>\n",
       "      <td>20.584594</td>\n",
       "      <td>3.394908e+06</td>\n",
       "    </tr>\n",
       "    <tr>\n",
       "      <th>2</th>\n",
       "      <td>49216.969845</td>\n",
       "      <td>7950.274471</td>\n",
       "      <td>5.940808</td>\n",
       "      <td>-0.757141</td>\n",
       "      <td>-6924.314008</td>\n",
       "      <td>163481.589677</td>\n",
       "      <td>-132.444988</td>\n",
       "      <td>71.361385</td>\n",
       "      <td>25.450728</td>\n",
       "      <td>3.994163e+06</td>\n",
       "    </tr>\n",
       "    <tr>\n",
       "      <th>3</th>\n",
       "      <td>44916.864417</td>\n",
       "      <td>5227.527530</td>\n",
       "      <td>7.311030</td>\n",
       "      <td>9.017858</td>\n",
       "      <td>-32001.629974</td>\n",
       "      <td>90586.282649</td>\n",
       "      <td>-14.961504</td>\n",
       "      <td>10.469746</td>\n",
       "      <td>21.898389</td>\n",
       "      <td>3.849720e+06</td>\n",
       "    </tr>\n",
       "    <tr>\n",
       "      <th>4</th>\n",
       "      <td>47172.125489</td>\n",
       "      <td>8862.283804</td>\n",
       "      <td>6.647375</td>\n",
       "      <td>4.776154</td>\n",
       "      <td>-75907.908464</td>\n",
       "      <td>-161229.580978</td>\n",
       "      <td>-39.000261</td>\n",
       "      <td>63.982145</td>\n",
       "      <td>18.869105</td>\n",
       "      <td>3.223216e+06</td>\n",
       "    </tr>\n",
       "    <tr>\n",
       "      <th>...</th>\n",
       "      <td>...</td>\n",
       "      <td>...</td>\n",
       "      <td>...</td>\n",
       "      <td>...</td>\n",
       "      <td>...</td>\n",
       "      <td>...</td>\n",
       "      <td>...</td>\n",
       "      <td>...</td>\n",
       "      <td>...</td>\n",
       "      <td>...</td>\n",
       "    </tr>\n",
       "    <tr>\n",
       "      <th>150020</th>\n",
       "      <td>44905.283757</td>\n",
       "      <td>10678.183302</td>\n",
       "      <td>8.044306</td>\n",
       "      <td>6.470696</td>\n",
       "      <td>-333895.161085</td>\n",
       "      <td>-6104.849182</td>\n",
       "      <td>-32.755346</td>\n",
       "      <td>-19.368834</td>\n",
       "      <td>23.036442</td>\n",
       "      <td>3.598674e+06</td>\n",
       "    </tr>\n",
       "    <tr>\n",
       "      <th>150021</th>\n",
       "      <td>45816.335980</td>\n",
       "      <td>8421.439537</td>\n",
       "      <td>7.017168</td>\n",
       "      <td>4.762338</td>\n",
       "      <td>-86920.614695</td>\n",
       "      <td>279415.421289</td>\n",
       "      <td>-35.140668</td>\n",
       "      <td>62.160301</td>\n",
       "      <td>27.742339</td>\n",
       "      <td>4.171774e+06</td>\n",
       "    </tr>\n",
       "    <tr>\n",
       "      <th>150022</th>\n",
       "      <td>46139.405092</td>\n",
       "      <td>11156.926258</td>\n",
       "      <td>7.491862</td>\n",
       "      <td>-8.680196</td>\n",
       "      <td>-372090.583680</td>\n",
       "      <td>-9899.241413</td>\n",
       "      <td>-180.978220</td>\n",
       "      <td>4.642645</td>\n",
       "      <td>21.048397</td>\n",
       "      <td>3.404370e+06</td>\n",
       "    </tr>\n",
       "    <tr>\n",
       "      <th>150023</th>\n",
       "      <td>42125.580390</td>\n",
       "      <td>6641.946222</td>\n",
       "      <td>7.740118</td>\n",
       "      <td>4.941329</td>\n",
       "      <td>-149800.158734</td>\n",
       "      <td>124467.369120</td>\n",
       "      <td>-81.197550</td>\n",
       "      <td>-12.694711</td>\n",
       "      <td>21.186631</td>\n",
       "      <td>3.964770e+06</td>\n",
       "    </tr>\n",
       "    <tr>\n",
       "      <th>150024</th>\n",
       "      <td>48971.371907</td>\n",
       "      <td>7584.308293</td>\n",
       "      <td>7.687201</td>\n",
       "      <td>-3.364566</td>\n",
       "      <td>-232407.908156</td>\n",
       "      <td>163886.810209</td>\n",
       "      <td>-163.788339</td>\n",
       "      <td>12.136126</td>\n",
       "      <td>22.313801</td>\n",
       "      <td>3.745385e+06</td>\n",
       "    </tr>\n",
       "  </tbody>\n",
       "</table>\n",
       "<p>150025 rows × 10 columns</p>\n",
       "</div>"
      ],
      "text/plain": [
       "         L4_SRC_PORT   L4_DST_PORT  PROTOCOL  L7_PROTO       IN_BYTES  \\\n",
       "0       50004.467965   9048.851282  7.188004  7.061000 -123226.982073   \n",
       "1       43840.407964  13468.381312  7.879767 -6.253430 -595796.212587   \n",
       "2       49216.969845   7950.274471  5.940808 -0.757141   -6924.314008   \n",
       "3       44916.864417   5227.527530  7.311030  9.017858  -32001.629974   \n",
       "4       47172.125489   8862.283804  6.647375  4.776154  -75907.908464   \n",
       "...              ...           ...       ...       ...            ...   \n",
       "150020  44905.283757  10678.183302  8.044306  6.470696 -333895.161085   \n",
       "150021  45816.335980   8421.439537  7.017168  4.762338  -86920.614695   \n",
       "150022  46139.405092  11156.926258  7.491862 -8.680196 -372090.583680   \n",
       "150023  42125.580390   6641.946222  7.740118  4.941329 -149800.158734   \n",
       "150024  48971.371907   7584.308293  7.687201 -3.364566 -232407.908156   \n",
       "\n",
       "            OUT_BYTES     IN_PKTS   OUT_PKTS  TCP_FLAGS  \\\n",
       "0       240938.418431 -119.518647  -8.881542  22.826868   \n",
       "1      -307462.466331   42.773664  49.957000  20.584594   \n",
       "2       163481.589677 -132.444988  71.361385  25.450728   \n",
       "3        90586.282649  -14.961504  10.469746  21.898389   \n",
       "4      -161229.580978  -39.000261  63.982145  18.869105   \n",
       "...               ...         ...        ...        ...   \n",
       "150020   -6104.849182  -32.755346 -19.368834  23.036442   \n",
       "150021  279415.421289  -35.140668  62.160301  27.742339   \n",
       "150022   -9899.241413 -180.978220   4.642645  21.048397   \n",
       "150023  124467.369120  -81.197550 -12.694711  21.186631   \n",
       "150024  163886.810209 -163.788339  12.136126  22.313801   \n",
       "\n",
       "        FLOW_DURATION_MILLISECONDS  \n",
       "0                     3.579625e+06  \n",
       "1                     3.394908e+06  \n",
       "2                     3.994163e+06  \n",
       "3                     3.849720e+06  \n",
       "4                     3.223216e+06  \n",
       "...                            ...  \n",
       "150020                3.598674e+06  \n",
       "150021                4.171774e+06  \n",
       "150022                3.404370e+06  \n",
       "150023                3.964770e+06  \n",
       "150024                3.745385e+06  \n",
       "\n",
       "[150025 rows x 10 columns]"
      ]
     },
     "execution_count": 21,
     "metadata": {},
     "output_type": "execute_result"
    }
   ],
   "source": [
    "X_test_hat"
   ]
  },
  {
   "cell_type": "code",
   "execution_count": 22,
   "id": "ccf512fa-b610-44d6-8d68-5b407986b4ce",
   "metadata": {
    "tags": []
   },
   "outputs": [
    {
     "name": "stdout",
     "output_type": "stream",
     "text": [
      "                precision    recall  f1-score   support\n",
      "\n",
      "        Benign       0.02      0.35      0.04      3383\n",
      "          DDoS       0.00      0.00      0.00     14123\n",
      "           DoS       0.00      0.00      0.00     14130\n",
      "Reconnaissance       0.79      0.66      0.72    117925\n",
      "         Theft       0.00      0.01      0.00       464\n",
      "\n",
      "      accuracy                           0.52    150025\n",
      "     macro avg       0.16      0.20      0.15    150025\n",
      "  weighted avg       0.62      0.52      0.56    150025\n",
      "\n"
     ]
    },
    {
     "name": "stderr",
     "output_type": "stream",
     "text": [
      "C:\\Users\\lh\\dev\\causal-ids\\.env\\Lib\\site-packages\\sklearn\\metrics\\_classification.py:1344: UndefinedMetricWarning: Precision and F-score are ill-defined and being set to 0.0 in labels with no predicted samples. Use `zero_division` parameter to control this behavior.\n",
      "  _warn_prf(average, modifier, msg_start, len(result))\n",
      "C:\\Users\\lh\\dev\\causal-ids\\.env\\Lib\\site-packages\\sklearn\\metrics\\_classification.py:1344: UndefinedMetricWarning: Precision and F-score are ill-defined and being set to 0.0 in labels with no predicted samples. Use `zero_division` parameter to control this behavior.\n",
      "  _warn_prf(average, modifier, msg_start, len(result))\n",
      "C:\\Users\\lh\\dev\\causal-ids\\.env\\Lib\\site-packages\\sklearn\\metrics\\_classification.py:1344: UndefinedMetricWarning: Precision and F-score are ill-defined and being set to 0.0 in labels with no predicted samples. Use `zero_division` parameter to control this behavior.\n",
      "  _warn_prf(average, modifier, msg_start, len(result))\n"
     ]
    }
   ],
   "source": [
    "y_pred = classifier.predict(X_test_hat)\n",
    "print(classification_report(y_test, y_pred, target_names=df.Attack.cat.categories))"
   ]
  },
  {
   "cell_type": "markdown",
   "id": "f09172b8-7c9c-44ac-9b52-d0a665339373",
   "metadata": {},
   "source": [
    "# Visualisation"
   ]
  },
  {
   "cell_type": "code",
   "execution_count": 23,
   "id": "84bd05ea-fae7-4a3b-b948-fcf4f6b36a8c",
   "metadata": {
    "tags": []
   },
   "outputs": [],
   "source": [
    "import matplotlib.pyplot as plt"
   ]
  },
  {
   "cell_type": "code",
   "execution_count": 24,
   "id": "fecfc6c5-9158-43c1-b810-b97d2b401b59",
   "metadata": {
    "tags": []
   },
   "outputs": [],
   "source": [
    "z_sweep = range(-30, 30, 5)\n",
    "sweep_X = X_test_norm[0]"
   ]
  },
  {
   "cell_type": "code",
   "execution_count": 25,
   "id": "23d88599-f459-45fe-b0f7-91b5359682fd",
   "metadata": {
    "tags": []
   },
   "outputs": [],
   "source": [
    "enc_z, _, _ = encoder(torch.tensor(sweep_X).float())"
   ]
  },
  {
   "cell_type": "code",
   "execution_count": 26,
   "id": "d61e8fe9-6900-4ba1-98ae-da1d16e7f37d",
   "metadata": {
    "tags": []
   },
   "outputs": [],
   "source": [
    "zz = []\n",
    "for nudge in z_sweep:\n",
    "    ar = enc_z.clone()\n",
    "    ar[0:K] += nudge\n",
    "    dec_X = scaler.inverse_transform(decoder(ar).cpu().detach().reshape(1, -1))\n",
    "    zz.append((\n",
    "        ar,\n",
    "        dec_X,\n",
    "        classifier.predict(dec_X)\n",
    "    ))"
   ]
  },
  {
   "cell_type": "code",
   "execution_count": 27,
   "id": "27935af9-ba3a-4d61-b10d-fae65393a957",
   "metadata": {
    "tags": []
   },
   "outputs": [
    {
     "name": "stdout",
     "output_type": "stream",
     "text": [
      "Sweeping from -30 to +30 in steps of 5\n",
      "Causal vars: [-30, -29], result: Reconnaissance\n",
      "Causal vars: [-25, -24], result: Reconnaissance\n",
      "Causal vars: [-20, -19], result: Reconnaissance\n",
      "Causal vars: [-15, -14], result: Reconnaissance\n",
      "Causal vars: [-10, -9], result: Reconnaissance\n",
      "Causal vars: [-5, -4], result: Reconnaissance\n",
      "Causal vars: [0, 0], result: Benign\n",
      "Causal vars: [4, 5], result: Reconnaissance\n",
      "Causal vars: [9, 10], result: Reconnaissance\n",
      "Causal vars: [14, 15], result: Reconnaissance\n",
      "Causal vars: [19, 20], result: Reconnaissance\n",
      "Causal vars: [24, 25], result: Reconnaissance\n"
     ]
    }
   ],
   "source": [
    "print(\"Sweeping from -30 to +30 in steps of 5\")\n",
    "cats = df['Attack'].cat.categories\n",
    "for enc, dec, res in zz:\n",
    "    causal = [int(x) for x in enc.tolist()[:K]]\n",
    "    print(f\"Causal vars: {causal}, result: {cats[res][0]}\")"
   ]
  },
  {
   "cell_type": "code",
   "execution_count": 28,
   "id": "1c2225fc-5503-4cdf-aa83-4e329603093e",
   "metadata": {
    "tags": []
   },
   "outputs": [
    {
     "name": "stderr",
     "output_type": "stream",
     "text": [
      "C:\\Users\\lh\\dev\\causal-ids\\.env\\Lib\\site-packages\\sklearn\\base.py:439: UserWarning: X does not have valid feature names, but StandardScaler was fitted with feature names\n",
      "  warnings.warn(\n"
     ]
    }
   ],
   "source": [
    "before = sweep_X\n",
    "after = scaler.transform(zz[7][1])\n",
    "feature_names = df.columns[:-1]"
   ]
  },
  {
   "cell_type": "code",
   "execution_count": 29,
   "id": "865b4d48-dfe3-46f3-acaa-c0c29b2386b0",
   "metadata": {
    "tags": []
   },
   "outputs": [
    {
     "data": {
      "text/html": [
       "<div>\n",
       "<style scoped>\n",
       "    .dataframe tbody tr th:only-of-type {\n",
       "        vertical-align: middle;\n",
       "    }\n",
       "\n",
       "    .dataframe tbody tr th {\n",
       "        vertical-align: top;\n",
       "    }\n",
       "\n",
       "    .dataframe thead th {\n",
       "        text-align: right;\n",
       "    }\n",
       "</style>\n",
       "<table border=\"1\" class=\"dataframe\">\n",
       "  <thead>\n",
       "    <tr style=\"text-align: right;\">\n",
       "      <th></th>\n",
       "      <th>Features</th>\n",
       "      <th>Before</th>\n",
       "      <th>After</th>\n",
       "      <th>Importance</th>\n",
       "    </tr>\n",
       "  </thead>\n",
       "  <tbody>\n",
       "    <tr>\n",
       "      <th>0</th>\n",
       "      <td>L4_SRC_PORT</td>\n",
       "      <td>-0.853488</td>\n",
       "      <td>-0.519926</td>\n",
       "      <td>0.012296</td>\n",
       "    </tr>\n",
       "    <tr>\n",
       "      <th>1</th>\n",
       "      <td>IN_PKTS</td>\n",
       "      <td>-0.046478</td>\n",
       "      <td>-0.709992</td>\n",
       "      <td>0.014703</td>\n",
       "    </tr>\n",
       "    <tr>\n",
       "      <th>2</th>\n",
       "      <td>OUT_PKTS</td>\n",
       "      <td>-0.024534</td>\n",
       "      <td>-0.173430</td>\n",
       "      <td>0.025358</td>\n",
       "    </tr>\n",
       "    <tr>\n",
       "      <th>3</th>\n",
       "      <td>OUT_BYTES</td>\n",
       "      <td>-0.008470</td>\n",
       "      <td>-0.184177</td>\n",
       "      <td>0.036853</td>\n",
       "    </tr>\n",
       "    <tr>\n",
       "      <th>4</th>\n",
       "      <td>PROTOCOL</td>\n",
       "      <td>-0.227830</td>\n",
       "      <td>-0.099207</td>\n",
       "      <td>0.038659</td>\n",
       "    </tr>\n",
       "    <tr>\n",
       "      <th>5</th>\n",
       "      <td>FLOW_DURATION_MILLISECONDS</td>\n",
       "      <td>0.496162</td>\n",
       "      <td>0.084771</td>\n",
       "      <td>0.044969</td>\n",
       "    </tr>\n",
       "    <tr>\n",
       "      <th>6</th>\n",
       "      <td>TCP_FLAGS</td>\n",
       "      <td>0.017681</td>\n",
       "      <td>-0.946889</td>\n",
       "      <td>0.057236</td>\n",
       "    </tr>\n",
       "    <tr>\n",
       "      <th>7</th>\n",
       "      <td>IN_BYTES</td>\n",
       "      <td>-0.019385</td>\n",
       "      <td>-0.274960</td>\n",
       "      <td>0.063432</td>\n",
       "    </tr>\n",
       "    <tr>\n",
       "      <th>8</th>\n",
       "      <td>L7_PROTO</td>\n",
       "      <td>-0.256119</td>\n",
       "      <td>-0.008296</td>\n",
       "      <td>0.307529</td>\n",
       "    </tr>\n",
       "    <tr>\n",
       "      <th>9</th>\n",
       "      <td>L4_DST_PORT</td>\n",
       "      <td>-0.074355</td>\n",
       "      <td>0.266955</td>\n",
       "      <td>0.398964</td>\n",
       "    </tr>\n",
       "  </tbody>\n",
       "</table>\n",
       "</div>"
      ],
      "text/plain": [
       "                     Features    Before     After  Importance\n",
       "0                 L4_SRC_PORT -0.853488 -0.519926    0.012296\n",
       "1                     IN_PKTS -0.046478 -0.709992    0.014703\n",
       "2                    OUT_PKTS -0.024534 -0.173430    0.025358\n",
       "3                   OUT_BYTES -0.008470 -0.184177    0.036853\n",
       "4                    PROTOCOL -0.227830 -0.099207    0.038659\n",
       "5  FLOW_DURATION_MILLISECONDS  0.496162  0.084771    0.044969\n",
       "6                   TCP_FLAGS  0.017681 -0.946889    0.057236\n",
       "7                    IN_BYTES -0.019385 -0.274960    0.063432\n",
       "8                    L7_PROTO -0.256119 -0.008296    0.307529\n",
       "9                 L4_DST_PORT -0.074355  0.266955    0.398964"
      ]
     },
     "execution_count": 29,
     "metadata": {},
     "output_type": "execute_result"
    }
   ],
   "source": [
    "viz_df = pd.DataFrame(zip(feature_names, before, after.reshape(10), classifier.feature_importances_), columns=['Features', 'Before', 'After', 'Importance'])\n",
    "viz_df.sort_values('Importance', inplace=True, ignore_index=True)\n",
    "viz_df"
   ]
  },
  {
   "cell_type": "code",
   "execution_count": 30,
   "id": "7f0a0172-c8cd-4f4f-950f-1495dc1b2514",
   "metadata": {
    "tags": []
   },
   "outputs": [
    {
     "data": {
      "image/png": "[encoded data removed]",
      "text/plain": [
       "<Figure size 640x480 with 1 Axes>"
      ]
     },
     "metadata": {},
     "output_type": "display_data"
    }
   ],
   "source": [
    "plt.scatter(viz_df.Before, viz_df.Features, label='Before')\n",
    "plt.scatter(viz_df.After, viz_df.Features, label='After')\n",
    "plt.hlines(y=viz_df.Features, xmin=viz_df.Before, xmax=viz_df.After)\n",
    "plt.legend(loc='upper right')\n",
    "plt.title('Transmute DDoS$\\\\rightarrow$Benign, by feature importance')\n",
    "plt.xlim([-1,2])\n",
    "plt.savefig('tranmuted_sample.png', bbox_inches = \"tight\");"
   ]
  }
 ],
 "metadata": {
  "kernelspec": {
   "display_name": "Python (Causal IDS)",
   "language": "python",
   "name": "causal-ids"
  },
  "language_info": {
   "codemirror_mode": {
    "name": "ipython",
    "version": 3
   },
   "file_extension": ".py",
   "mimetype": "text/x-python",
   "name": "python",
   "nbconvert_exporter": "python",
   "pygments_lexer": "ipython3",
   "version": "3.11.2"
  }
 },
 "nbformat": 4,
 "nbformat_minor": 5
}
