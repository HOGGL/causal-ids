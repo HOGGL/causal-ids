{
 "cells": [
  {
   "cell_type": "markdown",
   "id": "b534459a-257f-4ffa-8de8-a58748e4db9e",
   "metadata": {},
   "source": [
    "    This Source Code Form is subject to the terms of the Mozilla Public\n",
    "    License, v. 2.0. If a copy of the MPL was not distributed with this\n",
    "    file, You can obtain one at http://mozilla.org/MPL/2.0/."
   ]
  },
  {
   "cell_type": "markdown",
   "id": "317f1299-e4fc-4d7c-bb6b-7f14cdd329e1",
   "metadata": {},
   "source": [
    "Install dependencies.\n",
    "\n",
    "I had to downgrade Tensorflow and Keras bindings as the latest versions are incompatable with CXPlain. Tensorflow v2.7.4 requires Python 3.7&ndash;3.9"
   ]
  },
  {
   "cell_type": "code",
   "execution_count": null,
   "id": "48d86f22-f6bf-4516-a54a-62076bff9704",
   "metadata": {
    "tags": []
   },
   "outputs": [],
   "source": [
    "!pip install -U pandas scikit-learn cxplain tensorflow==2.7.4 keras==2.7.0"
   ]
  },
  {
   "cell_type": "markdown",
   "id": "51fe116a-0aaa-4a38-a090-842944be6661",
   "metadata": {
    "tags": []
   },
   "source": [
    "# Load and preprocess dataset"
   ]
  },
  {
   "cell_type": "markdown",
   "id": "e29b7d8a-054f-4089-b4b6-e3cc24c9ee81",
   "metadata": {},
   "source": [
    "Let's import the packages needed for this step:"
   ]
  },
  {
   "cell_type": "code",
   "execution_count": 3,
   "id": "17025c19-4137-4486-9ff7-6f8d5ee3c75a",
   "metadata": {},
   "outputs": [],
   "source": [
    "import pandas as pd\n",
    "from sklearn.compose import ColumnTransformer\n",
    "from sklearn.preprocessing import StandardScaler, OrdinalEncoder, OneHotEncoder\n",
    "\n",
    "from pathlib import Path"
   ]
  },
  {
   "cell_type": "markdown",
   "id": "d5e27a10-2440-4053-94ae-42e927d29728",
   "metadata": {},
   "source": [
    "The location of the University of Queensland NIDS dataset.\n",
    "\n",
    "For now I'm only using one of the small datasets downloaded from here: https://staff.itee.uq.edu.au/marius/NIDS_datasets/"
   ]
  },
  {
   "cell_type": "code",
   "execution_count": 4,
   "id": "0bdd6986-b24a-4627-859f-38881404de13",
   "metadata": {},
   "outputs": [],
   "source": [
    "dsn = 'NF-BoT-IoT.csv'\n",
    "dataset = Path('datasets/netflow-v1') / dsn"
   ]
  },
  {
   "cell_type": "markdown",
   "id": "54fdd54f-0c1a-4032-87a7-d035c385af08",
   "metadata": {},
   "source": [
    "Reading the spreadsheet into a Pandas' dataframe, ignoring some columns.\n",
    "\n",
    "I dropped the two IPv4 address columns as these would cause a dependency on a particular network topology.\n",
    "\n",
    "The `Label` column shouldn't be read as it is added after the fact and not part of regular network logging."
   ]
  },
  {
   "cell_type": "code",
   "execution_count": 5,
   "id": "792021fe-6b93-4dc8-bce6-4a6a7182d508",
   "metadata": {},
   "outputs": [
    {
     "data": {
      "text/html": [
       "<div>\n",
       "<style scoped>\n",
       "    .dataframe tbody tr th:only-of-type {\n",
       "        vertical-align: middle;\n",
       "    }\n",
       "\n",
       "    .dataframe tbody tr th {\n",
       "        vertical-align: top;\n",
       "    }\n",
       "\n",
       "    .dataframe thead th {\n",
       "        text-align: right;\n",
       "    }\n",
       "</style>\n",
       "<table border=\"1\" class=\"dataframe\">\n",
       "  <thead>\n",
       "    <tr style=\"text-align: right;\">\n",
       "      <th></th>\n",
       "      <th>L4_SRC_PORT</th>\n",
       "      <th>L4_DST_PORT</th>\n",
       "      <th>PROTOCOL</th>\n",
       "      <th>L7_PROTO</th>\n",
       "      <th>IN_BYTES</th>\n",
       "      <th>OUT_BYTES</th>\n",
       "      <th>IN_PKTS</th>\n",
       "      <th>OUT_PKTS</th>\n",
       "      <th>TCP_FLAGS</th>\n",
       "      <th>FLOW_DURATION_MILLISECONDS</th>\n",
       "      <th>Attack</th>\n",
       "    </tr>\n",
       "  </thead>\n",
       "  <tbody>\n",
       "    <tr>\n",
       "      <th>0</th>\n",
       "      <td>52670</td>\n",
       "      <td>53</td>\n",
       "      <td>17</td>\n",
       "      <td>5.212</td>\n",
       "      <td>71</td>\n",
       "      <td>126</td>\n",
       "      <td>1</td>\n",
       "      <td>1</td>\n",
       "      <td>0</td>\n",
       "      <td>4294966</td>\n",
       "      <td>Benign</td>\n",
       "    </tr>\n",
       "    <tr>\n",
       "      <th>1</th>\n",
       "      <td>49160</td>\n",
       "      <td>4444</td>\n",
       "      <td>6</td>\n",
       "      <td>0.000</td>\n",
       "      <td>217753000</td>\n",
       "      <td>199100</td>\n",
       "      <td>4521</td>\n",
       "      <td>4049</td>\n",
       "      <td>24</td>\n",
       "      <td>4176249</td>\n",
       "      <td>Theft</td>\n",
       "    </tr>\n",
       "    <tr>\n",
       "      <th>2</th>\n",
       "      <td>3456</td>\n",
       "      <td>80</td>\n",
       "      <td>17</td>\n",
       "      <td>0.000</td>\n",
       "      <td>8508021</td>\n",
       "      <td>8918372</td>\n",
       "      <td>9086</td>\n",
       "      <td>9086</td>\n",
       "      <td>0</td>\n",
       "      <td>4175916</td>\n",
       "      <td>Benign</td>\n",
       "    </tr>\n",
       "    <tr>\n",
       "      <th>3</th>\n",
       "      <td>80</td>\n",
       "      <td>8080</td>\n",
       "      <td>6</td>\n",
       "      <td>7.000</td>\n",
       "      <td>8442138</td>\n",
       "      <td>9013406</td>\n",
       "      <td>9086</td>\n",
       "      <td>9086</td>\n",
       "      <td>0</td>\n",
       "      <td>4175916</td>\n",
       "      <td>Benign</td>\n",
       "    </tr>\n",
       "    <tr>\n",
       "      <th>4</th>\n",
       "      <td>80</td>\n",
       "      <td>80</td>\n",
       "      <td>6</td>\n",
       "      <td>7.000</td>\n",
       "      <td>8374706</td>\n",
       "      <td>0</td>\n",
       "      <td>9086</td>\n",
       "      <td>0</td>\n",
       "      <td>0</td>\n",
       "      <td>4175916</td>\n",
       "      <td>Benign</td>\n",
       "    </tr>\n",
       "  </tbody>\n",
       "</table>\n",
       "</div>"
      ],
      "text/plain": [
       "   L4_SRC_PORT  L4_DST_PORT  PROTOCOL  L7_PROTO   IN_BYTES  OUT_BYTES  \\\n",
       "0        52670           53        17     5.212         71        126   \n",
       "1        49160         4444         6     0.000  217753000     199100   \n",
       "2         3456           80        17     0.000    8508021    8918372   \n",
       "3           80         8080         6     7.000    8442138    9013406   \n",
       "4           80           80         6     7.000    8374706          0   \n",
       "\n",
       "   IN_PKTS  OUT_PKTS  TCP_FLAGS  FLOW_DURATION_MILLISECONDS  Attack  \n",
       "0        1         1          0                     4294966  Benign  \n",
       "1     4521      4049         24                     4176249   Theft  \n",
       "2     9086      9086          0                     4175916  Benign  \n",
       "3     9086      9086          0                     4175916  Benign  \n",
       "4     9086         0          0                     4175916  Benign  "
      ]
     },
     "execution_count": 5,
     "metadata": {},
     "output_type": "execute_result"
    }
   ],
   "source": [
    "df = pd.read_csv(dataset, usecols=lambda x: x not in {\"IPV4_SRC_ADDR\", \"IPV4_DST_ADDR\", \"Label\"})\n",
    "df.head()"
   ]
  },
  {
   "cell_type": "markdown",
   "id": "bfad4bab-244a-4347-a625-d880f27e8220",
   "metadata": {},
   "source": [
    "The input to the neural network is a multi dimentional NumPy array. These only support numeric data types, so we must first transform the data.\n",
    "\n",
    "We encode the categorical data as integer indecies into an array. CXPlain requires the dependent variable (what we are trying to predict) to be a boolean value of `True`/`False`. This means we must split the `Attack` column into multiple columns for each choice. We can drop one of the categories as this can be deduced in the case where all other options are `False`.\n",
    "\n",
    "A lot of neural networks require continuous variables to be normalised, i.e. fit to a standard normal distribution. "
   ]
  },
  {
   "cell_type": "code",
   "execution_count": 6,
   "id": "575a8eb9-af79-4e58-a122-6c9604cc46ef",
   "metadata": {},
   "outputs": [
    {
     "data": {
      "text/plain": [
       "array(['atk__Attack_DDoS', 'atk__Attack_DoS',\n",
       "       'atk__Attack_Reconnaissance', 'atk__Attack_Theft',\n",
       "       'cat__TCP_FLAGS', 'cat__PROTOCOL', 'remainder__L4_SRC_PORT',\n",
       "       'remainder__L4_DST_PORT', 'remainder__L7_PROTO',\n",
       "       'remainder__IN_BYTES', 'remainder__OUT_BYTES',\n",
       "       'remainder__IN_PKTS', 'remainder__OUT_PKTS',\n",
       "       'remainder__FLOW_DURATION_MILLISECONDS'], dtype=object)"
      ]
     },
     "execution_count": 6,
     "metadata": {},
     "output_type": "execute_result"
    }
   ],
   "source": [
    "trns = ColumnTransformer([('atk', OneHotEncoder(drop='first'), ['Attack']),\n",
    "                          ('cat', OrdinalEncoder(), ['TCP_FLAGS', 'PROTOCOL'])],\n",
    "                         remainder=StandardScaler())\n",
    "data = trns.fit_transform(df)\n",
    "#del df\n",
    "trns.get_feature_names_out()"
   ]
  },
  {
   "cell_type": "markdown",
   "id": "1362354a-2fac-4c77-8644-e7901fff2650",
   "metadata": {
    "tags": []
   },
   "source": [
    "# Train classifier model"
   ]
  },
  {
   "cell_type": "code",
   "execution_count": 7,
   "id": "2cc92a55-0f1f-4854-9f42-91cc3c8f342a",
   "metadata": {},
   "outputs": [],
   "source": [
    "from sklearn.model_selection import train_test_split\n",
    "from sklearn.neural_network import MLPClassifier"
   ]
  },
  {
   "cell_type": "markdown",
   "id": "c861ab23-8ebe-42c3-8751-e22f0f6d4926",
   "metadata": {},
   "source": [
    "Using the Python array slicing feature, the independent (traffic) and dependent (attack type) columns are extracted.\n",
    "\n",
    "It is good practice to seperate the data into training data for fitting the model and test data to gague the model's abillity to predict over novel data. This prevents what is called 'overfitting'."
   ]
  },
  {
   "cell_type": "code",
   "execution_count": 8,
   "id": "7a322f87-152b-4362-9a03-71d46055f2da",
   "metadata": {},
   "outputs": [],
   "source": [
    "X, y = data[:,4:], data[:,:4]\n",
    "X_train, X_test, y_train, y_test = train_test_split(X, y, test_size=0.2, random_state=42)"
   ]
  },
  {
   "cell_type": "markdown",
   "id": "f11f2b9b-2ba7-4812-adf1-2e2cb01215d6",
   "metadata": {},
   "source": [
    "I only perform one training iteration to speed things up. This of course means the model will be less accurate than the optimum."
   ]
  },
  {
   "cell_type": "code",
   "execution_count": null,
   "id": "26fddab2-22a9-4be2-95f6-2ae70108760a",
   "metadata": {
    "tags": []
   },
   "outputs": [],
   "source": [
    "explained_model = MLPClassifier(verbose=True, max_iter=1, random_state=42)\n",
    "explained_model.fit(X_train, y_train)"
   ]
  },
  {
   "cell_type": "code",
   "execution_count": 10,
   "id": "f38da92e-437c-454f-9677-4692bf8f8389",
   "metadata": {},
   "outputs": [
    {
     "data": {
      "text/plain": [
       "0.7334110981503082"
      ]
     },
     "execution_count": 10,
     "metadata": {},
     "output_type": "execute_result"
    }
   ],
   "source": [
    "explained_model.score(X_test, y_test)"
   ]
  },
  {
   "cell_type": "markdown",
   "id": "ede1153b-e21b-405d-9249-244bab3e60d2",
   "metadata": {},
   "source": [
    "70% accuracy!"
   ]
  },
  {
   "cell_type": "markdown",
   "id": "22c0a9fe-689e-4238-bc9d-525dec86f4a1",
   "metadata": {},
   "source": [
    "# Train explanation model"
   ]
  },
  {
   "cell_type": "code",
   "execution_count": null,
   "id": "391bba32-0639-4aa3-87e8-1b573fcca8bd",
   "metadata": {
    "tags": []
   },
   "outputs": [],
   "source": [
    "from tensorflow.python.keras.losses import mean_squared_error\n",
    "from cxplain import MLPModelBuilder, ZeroMasking, CXPlain\n",
    "\n",
    "import tensorflow._api.v2.compat.v1 as tf\n",
    "tf.disable_v2_behavior()"
   ]
  },
  {
   "cell_type": "markdown",
   "id": "1e185bf2-28e6-4752-8f36-a7712316502b",
   "metadata": {},
   "source": [
    "Here, I had to enable Tensorflow v1 compatability as the CXPlain library won't work without it."
   ]
  },
  {
   "cell_type": "markdown",
   "id": "d1648c5c-b5db-4254-979d-1b70f74c5c63",
   "metadata": {},
   "source": [
    "Configuring the hyperparameters for the explainer model. These can be tuned for faster convergence but I just copied them from the docs.\n",
    "\n",
    "Zero masking means that it will hide some part of the input to see how much that affects the result. E.g. hiding the connection duration for a DoS attack would be significant."
   ]
  },
  {
   "cell_type": "code",
   "execution_count": 19,
   "id": "d84378e3-f1c8-4782-8fa4-078ec0928209",
   "metadata": {},
   "outputs": [],
   "source": [
    "model_builder = MLPModelBuilder(num_units=24, activation='selu', p_dropout=0.2, batch_size=8, learning_rate=0.01, verbose=1, num_epochs=2)\n",
    "masking_operation = ZeroMasking()\n",
    "loss = mean_squared_error"
   ]
  },
  {
   "cell_type": "markdown",
   "id": "ec2fdd0a-cb0a-4cd8-a49d-283052171c83",
   "metadata": {},
   "source": [
    "Now to train the causal model. Here I have specified an additional copy to be trained as well. This is so the final output can have confidence intervals, i.e. how sure we can be that the value lies in a range. Although, this number should be increased for greater accuracy."
   ]
  },
  {
   "cell_type": "code",
   "execution_count": null,
   "id": "e74708ce-4964-4e3a-abcc-16fed4adc6a2",
   "metadata": {
    "tags": []
   },
   "outputs": [],
   "source": [
    "explainer = CXPlain(explained_model, model_builder, masking_operation, loss, num_models=2)\n",
    "explainer.fit(X_train, y_train)"
   ]
  },
  {
   "cell_type": "markdown",
   "id": "14f64d9e-7602-40d7-865c-fed53bafa8ad",
   "metadata": {},
   "source": [
    "# Single sample results"
   ]
  },
  {
   "cell_type": "markdown",
   "id": "8f702c7e-0ef8-4c95-86de-46f169fbd283",
   "metadata": {},
   "source": [
    "Now that we have our model, I can request it to explain the importance of each feature for all samples in the test data. The rest of the code is just to extract the data for a single sample, label it, and graph it."
   ]
  },
  {
   "cell_type": "code",
   "execution_count": 22,
   "id": "ebb0ae09-d03f-4bb2-a925-5ee8604cf97e",
   "metadata": {},
   "outputs": [],
   "source": [
    "attributions, confidence = explainer.explain(X_test, confidence_level=0.80)"
   ]
  },
  {
   "cell_type": "code",
   "execution_count": 26,
   "id": "38dcccb3-b8b7-4802-ab77-d2125ed57782",
   "metadata": {},
   "outputs": [],
   "source": [
    "import numpy as np\n",
    "import matplotlib.pyplot as plt\n",
    "from cxplain.visualisation.plot import Plot\n",
    "\n",
    "plt.rcdefaults()"
   ]
  },
  {
   "cell_type": "code",
   "execution_count": 80,
   "id": "3be94830-501d-4049-8598-717c2cb8d0f2",
   "metadata": {},
   "outputs": [],
   "source": [
    "np.random.seed(42)\n",
    "selected_index = np.random.randint(len(X_test))\n",
    "selected_sample = X_test[selected_index]\n",
    "\n",
    "importances = attributions[selected_index]*100\n",
    "importances_confidence = confidence[selected_index]*100"
   ]
  },
  {
   "cell_type": "code",
   "execution_count": 81,
   "id": "4569cbde-7fcf-4357-a267-f40b3b9da49d",
   "metadata": {},
   "outputs": [],
   "source": [
    "atk_typ = trns.named_transformers_.atk.inverse_transform(y_test[selected_index].reshape(-1,4))[0,0]"
   ]
  },
  {
   "cell_type": "code",
   "execution_count": 82,
   "id": "6f8aa9f5-fb47-4b24-aa1f-afa853f56733",
   "metadata": {},
   "outputs": [
    {
     "data": {
      "image/png": "[encoded data removed]",
      "text/plain": [
       "<Figure size 640x480 with 1 Axes>"
      ]
     },
     "metadata": {},
     "output_type": "display_data"
    },
    {
     "data": {
      "text/plain": [
       "<Figure size 640x480 with 0 Axes>"
      ]
     },
     "metadata": {},
     "output_type": "display_data"
    }
   ],
   "source": [
    "Plot.plot_attribution_1d(selected_sample, importances, importances_confidence,\n",
    "                         title=f'Feature Importance for sample #{selected_index} labeled {atk_typ}',\n",
    "                         feature_names=df.columns[:-1])"
   ]
  }
 ],
 "metadata": {
  "kernelspec": {
   "display_name": "causal-ids",
   "language": "python",
   "name": "causal-ids"
  },
  "language_info": {
   "codemirror_mode": {
    "name": "ipython",
    "version": 3
   },
   "file_extension": ".py",
   "mimetype": "text/x-python",
   "name": "python",
   "nbconvert_exporter": "python",
   "pygments_lexer": "ipython3",
   "version": "3.11.2"
  }
 },
 "nbformat": 4,
 "nbformat_minor": 5
}
