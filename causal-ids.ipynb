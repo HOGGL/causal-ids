{
 "cells": [
  {
   "cell_type": "markdown",
   "id": "5b83b616-4f34-4cd5-b75f-8da6c069f360",
   "metadata": {},
   "source": [
    "    This Source Code Form is subject to the terms of the Mozilla Public\n",
    "    License, v. 2.0. If a copy of the MPL was not distributed with this\n",
    "    file, You can obtain one at http://mozilla.org/MPL/2.0/."
   ]
  },
  {
   "cell_type": "markdown",
   "id": "1de58542-4bee-4916-9bed-a912b6d4983f",
   "metadata": {},
   "source": [
    "# Load and preprocess dataset"
   ]
  },
  {
   "cell_type": "code",
   "execution_count": 16,
   "id": "9b70407f-74c8-46f1-9311-461b1096e217",
   "metadata": {
    "tags": []
   },
   "outputs": [],
   "source": [
    "import pandas as pd\n",
    "from sklearn.compose import ColumnTransformer\n",
    "from sklearn.preprocessing import StandardScaler, OrdinalEncoder\n",
    "\n",
    "from pathlib import Path"
   ]
  },
  {
   "cell_type": "code",
   "execution_count": 17,
   "id": "33923fd5-1e58-40ac-b07f-cf6cea559bae",
   "metadata": {
    "tags": []
   },
   "outputs": [],
   "source": [
    "dsn = 'NF-BoT-IoT.csv'\n",
    "dataset = Path('datasets/netflow-v1') / dsn\n",
    "ignore_cols = {'IPV4_SRC_ADDR', 'IPV4_DST_ADDR', 'Label'}"
   ]
  },
  {
   "cell_type": "code",
   "execution_count": 18,
   "id": "ebb40576-9084-4acf-b091-ed10a8de8ca1",
   "metadata": {
    "tags": []
   },
   "outputs": [
    {
     "data": {
      "text/html": [
       "<div>\n",
       "<style scoped>\n",
       "    .dataframe tbody tr th:only-of-type {\n",
       "        vertical-align: middle;\n",
       "    }\n",
       "\n",
       "    .dataframe tbody tr th {\n",
       "        vertical-align: top;\n",
       "    }\n",
       "\n",
       "    .dataframe thead th {\n",
       "        text-align: right;\n",
       "    }\n",
       "</style>\n",
       "<table border=\"1\" class=\"dataframe\">\n",
       "  <thead>\n",
       "    <tr style=\"text-align: right;\">\n",
       "      <th></th>\n",
       "      <th>L4_SRC_PORT</th>\n",
       "      <th>L4_DST_PORT</th>\n",
       "      <th>PROTOCOL</th>\n",
       "      <th>L7_PROTO</th>\n",
       "      <th>IN_BYTES</th>\n",
       "      <th>OUT_BYTES</th>\n",
       "      <th>IN_PKTS</th>\n",
       "      <th>OUT_PKTS</th>\n",
       "      <th>TCP_FLAGS</th>\n",
       "      <th>FLOW_DURATION_MILLISECONDS</th>\n",
       "      <th>Attack</th>\n",
       "    </tr>\n",
       "  </thead>\n",
       "  <tbody>\n",
       "    <tr>\n",
       "      <th>0</th>\n",
       "      <td>52670</td>\n",
       "      <td>53</td>\n",
       "      <td>17</td>\n",
       "      <td>5.212</td>\n",
       "      <td>71</td>\n",
       "      <td>126</td>\n",
       "      <td>1</td>\n",
       "      <td>1</td>\n",
       "      <td>0</td>\n",
       "      <td>4294966</td>\n",
       "      <td>Benign</td>\n",
       "    </tr>\n",
       "    <tr>\n",
       "      <th>1</th>\n",
       "      <td>49160</td>\n",
       "      <td>4444</td>\n",
       "      <td>6</td>\n",
       "      <td>0.000</td>\n",
       "      <td>217753000</td>\n",
       "      <td>199100</td>\n",
       "      <td>4521</td>\n",
       "      <td>4049</td>\n",
       "      <td>24</td>\n",
       "      <td>4176249</td>\n",
       "      <td>Theft</td>\n",
       "    </tr>\n",
       "    <tr>\n",
       "      <th>2</th>\n",
       "      <td>3456</td>\n",
       "      <td>80</td>\n",
       "      <td>17</td>\n",
       "      <td>0.000</td>\n",
       "      <td>8508021</td>\n",
       "      <td>8918372</td>\n",
       "      <td>9086</td>\n",
       "      <td>9086</td>\n",
       "      <td>0</td>\n",
       "      <td>4175916</td>\n",
       "      <td>Benign</td>\n",
       "    </tr>\n",
       "    <tr>\n",
       "      <th>3</th>\n",
       "      <td>80</td>\n",
       "      <td>8080</td>\n",
       "      <td>6</td>\n",
       "      <td>7.000</td>\n",
       "      <td>8442138</td>\n",
       "      <td>9013406</td>\n",
       "      <td>9086</td>\n",
       "      <td>9086</td>\n",
       "      <td>0</td>\n",
       "      <td>4175916</td>\n",
       "      <td>Benign</td>\n",
       "    </tr>\n",
       "    <tr>\n",
       "      <th>4</th>\n",
       "      <td>80</td>\n",
       "      <td>80</td>\n",
       "      <td>6</td>\n",
       "      <td>7.000</td>\n",
       "      <td>8374706</td>\n",
       "      <td>0</td>\n",
       "      <td>9086</td>\n",
       "      <td>0</td>\n",
       "      <td>0</td>\n",
       "      <td>4175916</td>\n",
       "      <td>Benign</td>\n",
       "    </tr>\n",
       "  </tbody>\n",
       "</table>\n",
       "</div>"
      ],
      "text/plain": [
       "   L4_SRC_PORT  L4_DST_PORT  PROTOCOL  L7_PROTO   IN_BYTES  OUT_BYTES  \\\n",
       "0        52670           53        17     5.212         71        126   \n",
       "1        49160         4444         6     0.000  217753000     199100   \n",
       "2         3456           80        17     0.000    8508021    8918372   \n",
       "3           80         8080         6     7.000    8442138    9013406   \n",
       "4           80           80         6     7.000    8374706          0   \n",
       "\n",
       "   IN_PKTS  OUT_PKTS  TCP_FLAGS  FLOW_DURATION_MILLISECONDS  Attack  \n",
       "0        1         1          0                     4294966  Benign  \n",
       "1     4521      4049         24                     4176249   Theft  \n",
       "2     9086      9086          0                     4175916  Benign  \n",
       "3     9086      9086          0                     4175916  Benign  \n",
       "4     9086         0          0                     4175916  Benign  "
      ]
     },
     "execution_count": 18,
     "metadata": {},
     "output_type": "execute_result"
    }
   ],
   "source": [
    "df = pd.read_csv(dataset, usecols=lambda x: x not in ignore_cols)\n",
    "df.head()"
   ]
  },
  {
   "cell_type": "code",
   "execution_count": 19,
   "id": "bf812f48-11a6-469b-b4f3-a7a1ca9eefdc",
   "metadata": {
    "tags": []
   },
   "outputs": [
    {
     "data": {
      "text/plain": [
       "array(['cat__Attack', 'cat__TCP_FLAGS', 'cat__PROTOCOL',\n",
       "       'remainder__L4_SRC_PORT', 'remainder__L4_DST_PORT',\n",
       "       'remainder__L7_PROTO', 'remainder__IN_BYTES',\n",
       "       'remainder__OUT_BYTES', 'remainder__IN_PKTS',\n",
       "       'remainder__OUT_PKTS', 'remainder__FLOW_DURATION_MILLISECONDS'],\n",
       "      dtype=object)"
      ]
     },
     "execution_count": 19,
     "metadata": {},
     "output_type": "execute_result"
    }
   ],
   "source": [
    "trns = ColumnTransformer([('cat', OrdinalEncoder(), ['Attack', 'TCP_FLAGS', 'PROTOCOL'])],\n",
    "                         remainder=StandardScaler())\n",
    "data = trns.fit_transform(df)\n",
    "trns.get_feature_names_out()"
   ]
  },
  {
   "cell_type": "markdown",
   "id": "e3067995-7ffa-43d7-b30b-89a10b650393",
   "metadata": {},
   "source": [
    "# Train classifier model"
   ]
  },
  {
   "cell_type": "code",
   "execution_count": 20,
   "id": "f6b36d9f-25be-4ada-b77a-b8dc81b058e2",
   "metadata": {
    "tags": []
   },
   "outputs": [],
   "source": [
    "import numpy as np\n",
    "\n",
    "from xgboost import XGBRFClassifier\n",
    "from sklearn.model_selection import train_test_split"
   ]
  },
  {
   "cell_type": "code",
   "execution_count": 21,
   "id": "e5e46bb4-25a9-4c51-b883-c01d5bbb57f5",
   "metadata": {
    "tags": []
   },
   "outputs": [],
   "source": [
    "y, X = np.hsplit(data, [1])\n",
    "X_train, X_test, y_train, y_test = train_test_split(X, y, test_size=0.2, random_state=42)"
   ]
  },
  {
   "cell_type": "code",
   "execution_count": 22,
   "id": "a09209f5-7b14-4f26-a084-981d95b66723",
   "metadata": {
    "tags": []
   },
   "outputs": [
    {
     "name": "stdout",
     "output_type": "stream",
     "text": [
      "[0]\tvalidation_0-mlogloss:0.45187\n"
     ]
    }
   ],
   "source": [
    "explained_model = XGBRFClassifier(n_estimators=3, random_state=42, objective='binary:logistic')\n",
    "explained_model.fit(X_train, y_train, eval_set=[(X_train, y_train)], verbose=True);"
   ]
  },
  {
   "cell_type": "code",
   "execution_count": 23,
   "id": "acf59e9c-3f6b-49fe-af4c-e3fea6d1509f",
   "metadata": {
    "tags": []
   },
   "outputs": [
    {
     "data": {
      "text/plain": [
       "0.8392434594234295"
      ]
     },
     "execution_count": 23,
     "metadata": {},
     "output_type": "execute_result"
    }
   ],
   "source": [
    "explained_model.score(X_test, y_test)"
   ]
  },
  {
   "cell_type": "markdown",
   "id": "38290576-87b7-493c-a30d-b24bb7347ae4",
   "metadata": {},
   "source": [
    "# Train explanation model"
   ]
  },
  {
   "cell_type": "code",
   "execution_count": 140,
   "id": "d1ffc2c2-97ed-4970-8b4f-874f02757a96",
   "metadata": {
    "tags": []
   },
   "outputs": [],
   "source": [
    "import torch\n",
    "import torch.nn as nn\n",
    "\n",
    "import pyro\n",
    "import pyro.distributions as dist\n",
    "\n",
    "from pyro.infer import SVI, Trace_ELBO\n",
    "from pyro.optim import Adam\n",
    "from tqdm import tqdm"
   ]
  },
  {
   "cell_type": "code",
   "execution_count": 47,
   "id": "d4f3e73e-6c09-42ad-aec3-3c86656d0b4d",
   "metadata": {},
   "outputs": [],
   "source": [
    "torch.set_default_dtype(torch.float64)\n",
    "pyro.distributions.enable_validation(True)\n",
    "pyro.set_rng_seed(42)"
   ]
  },
  {
   "cell_type": "code",
   "execution_count": 26,
   "id": "f7824528-062b-475b-a4c6-57d50e93be7f",
   "metadata": {
    "tags": []
   },
   "outputs": [],
   "source": [
    "def Decoder(z_dim, X_dim, hidden_dim):\n",
    "    return nn.Sequential(\n",
    "        nn.Linear(z_dim, hidden_dim),\n",
    "        nn.Softplus(),\n",
    "        nn.Linear(hidden_dim, X_dim),\n",
    "        nn.Sigmoid()\n",
    "    )"
   ]
  },
  {
   "cell_type": "code",
   "execution_count": 50,
   "id": "17ffc397-3cb2-4c68-ac1f-b37587a435f5",
   "metadata": {
    "tags": []
   },
   "outputs": [],
   "source": [
    "class Encoder(nn.Module):\n",
    "    def __init__(self, z_dim, X_dim, hidden_dim):\n",
    "        super().__init__()      \n",
    "        self.fc1 = nn.Linear(X_dim, hidden_dim)\n",
    "        self.fc21 = nn.Linear(hidden_dim, z_dim)\n",
    "        self.fc22 = nn.Linear(hidden_dim, z_dim)\n",
    "        self.softplus = nn.Softplus()\n",
    "    \n",
    "    def forward(self, X):     \n",
    "        hidden = self.softplus(self.fc1(X))\n",
    "        z_loc = self.fc21(hidden)\n",
    "        z_scale = torch.exp(self.fc22(hidden))\n",
    "        return z_loc, z_scale"
   ]
  },
  {
   "cell_type": "code",
   "execution_count": 154,
   "id": "ba0355a0-7c72-47cc-8e0a-e580c46897b4",
   "metadata": {},
   "outputs": [],
   "source": [
    "class CausalVAE(nn.Module):\n",
    "    def __init__(self, K, L, X_dim, hidden_dim=16, use_cuda=False):\n",
    "        super().__init__()\n",
    "        self.K, self.L = K, L\n",
    "        self.z_dim = K + L\n",
    "        self.encoder = Encoder(self.z_dim, X_dim, hidden_dim)\n",
    "        self.decoder = Decoder(self.z_dim, X_dim, hidden_dim)\n",
    "        \n",
    "        if use_cuda:\n",
    "            self.cuda()\n",
    "    \n",
    "    def model(self, X, y=None):\n",
    "        pyro.module('decoder', self.decoder)\n",
    "        batch_size = X.shape[0]\n",
    "        \n",
    "        with pyro.plate('data', batch_size):\n",
    "            z_loc = X.new_zeros((batch_size, self.z_dim))\n",
    "            z_scale = X.new_ones((batch_size, self.z_dim))\n",
    "            z = pyro.sample('latent', dist.Normal(z_loc, z_scale).to_event(1))\n",
    "            \n",
    "            Xhat = self.decoder(z)\n",
    "            pyro.sample('obs', dist.Normal(Xhat, X.new_ones(X.shape[1])).to_event(1), obs=X)\n",
    "            \n",
    "        \n",
    "    def guide(self, X, y=None):\n",
    "        pyro.module('encoder', self.encoder)\n",
    "        \n",
    "        with pyro.plate('data', X.shape[0]):\n",
    "            z_loc, z_scale = self.encoder(X)\n",
    "            pyro.sample('latent', dist.Normal(z_loc, z_scale).to_event(1))\n",
    "            \n",
    "    def reconstruct(self, x):\n",
    "        z_loc, z_scale = self.encoder(x)\n",
    "        z = dist.Normal(z_loc, z_scale).sample()\n",
    "        loc_img = self.decoder(z)\n",
    "        return loc_img"
   ]
  },
  {
   "cell_type": "code",
   "execution_count": 155,
   "id": "1a427a56-ed84-4d9e-9412-4d22b318ef5c",
   "metadata": {},
   "outputs": [],
   "source": [
    "vae = CausalVAE(0, 10, X_train.shape[1], use_cuda=True)\n",
    "optimizer = Adam({})\n",
    "svi = SVI(vae.model, vae.guide, optimizer, loss=Trace_ELBO())"
   ]
  },
  {
   "cell_type": "code",
   "execution_count": 142,
   "id": "eb53c20a-e7d4-43d6-a907-6dc2fbc55f0c",
   "metadata": {
    "tags": []
   },
   "outputs": [],
   "source": [
    "train_loader = torch.utils.data.DataLoader(X_train, batch_size=32)"
   ]
  },
  {
   "cell_type": "code",
   "execution_count": 146,
   "id": "b4558303-f4b2-4c50-a76e-d988275eb3f1",
   "metadata": {
    "tags": []
   },
   "outputs": [],
   "source": [
    "def train(svi, train_loader, *, use_cuda=False):\n",
    "    epoch_loss = 0\n",
    "    \n",
    "    for X in tqdm(train_loader):\n",
    "        if use_cuda:\n",
    "            X = X.cuda()\n",
    "\n",
    "        epoch_loss += svi.step(X)\n",
    "    \n",
    "    total_epoch_loss_train = epoch_loss / len(train_loader.dataset)\n",
    "    return total_epoch_loss_train"
   ]
  },
  {
   "cell_type": "code",
   "execution_count": 156,
   "id": "265f6c1c-1638-4ec8-a91f-c6319dbafdd9",
   "metadata": {
    "tags": []
   },
   "outputs": [
    {
     "name": "stderr",
     "output_type": "stream",
     "text": [
      "100%|████████████████████████████████████████████████████████████████████████████████████████████████████████████████████████████████████████████████| 15003/15003 [03:09<00:00, 79.34it/s]\n"
     ]
    },
    {
     "data": {
      "text/plain": [
       "3.284507436183707e+21"
      ]
     },
     "execution_count": 156,
     "metadata": {},
     "output_type": "execute_result"
    }
   ],
   "source": [
    "pyro.clear_param_store()\n",
    "train(svi, train_loader, use_cuda=True)"
   ]
  },
  {
   "cell_type": "code",
   "execution_count": 169,
   "id": "0aa4b92f-e3a9-4bc5-b33e-a593e27fc48a",
   "metadata": {
    "tags": []
   },
   "outputs": [
    {
     "data": {
      "text/plain": [
       "tensor(0.9093, device='cuda:0', grad_fn=<SqrtBackward0>)"
      ]
     },
     "execution_count": 169,
     "metadata": {},
     "output_type": "execute_result"
    }
   ],
   "source": [
    "x_test = torch.from_numpy(X_test[30]).cuda()\n",
    "nn.functional.mse_loss(x_test, vae.reconstruct(x_test)).sqrt()"
   ]
  },
  {
   "cell_type": "code",
   "execution_count": 163,
   "id": "eec90df3-e81c-44d8-be0a-3dd2dc0969c9",
   "metadata": {
    "tags": []
   },
   "outputs": [
    {
     "data": {
      "text/plain": [
       "(tensor([ 0.0000,  2.0000, -1.1104,  0.6397, -0.2561, -0.0194, -0.0085, -0.0465,\n",
       "         -0.0298, -2.0826], device='cuda:0'),\n",
       " tensor([1.0000e+00, 9.9999e-01, 7.4742e-02, 5.6891e-02, 4.6018e-05, 5.1842e-04,\n",
       "         2.0472e-05, 1.7344e-05, 2.5053e-05, 3.6389e-02], device='cuda:0',\n",
       "        grad_fn=<SigmoidBackward0>))"
      ]
     },
     "execution_count": 163,
     "metadata": {},
     "output_type": "execute_result"
    }
   ],
   "source": [
    "x_test, vae.reconstruct(x_test)"
   ]
  }
 ],
 "metadata": {
  "kernelspec": {
   "display_name": "Python (Causal IDS)",
   "language": "python",
   "name": "causal-ids"
  },
  "language_info": {
   "codemirror_mode": {
    "name": "ipython",
    "version": 3
   },
   "file_extension": ".py",
   "mimetype": "text/x-python",
   "name": "python",
   "nbconvert_exporter": "python",
   "pygments_lexer": "ipython3",
   "version": "3.11.2"
  }
 },
 "nbformat": 4,
 "nbformat_minor": 5
}
