{
 "cells": [
  {
   "cell_type": "markdown",
   "id": "5b83b616-4f34-4cd5-b75f-8da6c069f360",
   "metadata": {},
   "source": [
    "    This Source Code Form is subject to the terms of the Mozilla Public\n",
    "    License, v. 2.0. If a copy of the MPL was not distributed with this\n",
    "    file, You can obtain one at http://mozilla.org/MPL/2.0/."
   ]
  },
  {
   "cell_type": "markdown",
   "id": "1de58542-4bee-4916-9bed-a912b6d4983f",
   "metadata": {},
   "source": [
    "# Load and preprocess dataset"
   ]
  },
  {
   "cell_type": "markdown",
   "id": "e7b4f8c7-e0d2-4f66-8607-f61992e9c9f6",
   "metadata": {},
   "source": [
    "Load the dataset skipping some columns. This time use the category datatype for the classification column."
   ]
  },
  {
   "cell_type": "code",
   "execution_count": 1,
   "id": "cbe57083-9219-4374-9623-d6b3345b04f9",
   "metadata": {
    "tags": []
   },
   "outputs": [],
   "source": [
    "import pandas as pd\n",
    "from sklearn.preprocessing import StandardScaler"
   ]
  },
  {
   "cell_type": "code",
   "execution_count": 80,
   "id": "6f64aac2-d8a2-4358-b044-b1cd9fa966e8",
   "metadata": {
    "tags": []
   },
   "outputs": [],
   "source": [
    "csv_file = 'datasets/netflow-v1/NF-ToN-IoT.csv'\n",
    "ignore_cols = {'IPV4_SRC_ADDR', 'IPV4_DST_ADDR', 'Label'}"
   ]
  },
  {
   "cell_type": "code",
   "execution_count": 81,
   "id": "08827fec-86e2-41c1-a214-a5635a603b80",
   "metadata": {
    "tags": []
   },
   "outputs": [
    {
     "data": {
      "text/html": [
       "<div>\n",
       "<style scoped>\n",
       "    .dataframe tbody tr th:only-of-type {\n",
       "        vertical-align: middle;\n",
       "    }\n",
       "\n",
       "    .dataframe tbody tr th {\n",
       "        vertical-align: top;\n",
       "    }\n",
       "\n",
       "    .dataframe thead th {\n",
       "        text-align: right;\n",
       "    }\n",
       "</style>\n",
       "<table border=\"1\" class=\"dataframe\">\n",
       "  <thead>\n",
       "    <tr style=\"text-align: right;\">\n",
       "      <th></th>\n",
       "      <th>L4_SRC_PORT</th>\n",
       "      <th>L4_DST_PORT</th>\n",
       "      <th>PROTOCOL</th>\n",
       "      <th>L7_PROTO</th>\n",
       "      <th>IN_BYTES</th>\n",
       "      <th>OUT_BYTES</th>\n",
       "      <th>IN_PKTS</th>\n",
       "      <th>OUT_PKTS</th>\n",
       "      <th>TCP_FLAGS</th>\n",
       "      <th>FLOW_DURATION_MILLISECONDS</th>\n",
       "      <th>Attack</th>\n",
       "    </tr>\n",
       "  </thead>\n",
       "  <tbody>\n",
       "    <tr>\n",
       "      <th>0</th>\n",
       "      <td>63318</td>\n",
       "      <td>443</td>\n",
       "      <td>6</td>\n",
       "      <td>91.00</td>\n",
       "      <td>181</td>\n",
       "      <td>165</td>\n",
       "      <td>2</td>\n",
       "      <td>1</td>\n",
       "      <td>24</td>\n",
       "      <td>327</td>\n",
       "      <td>Benign</td>\n",
       "    </tr>\n",
       "    <tr>\n",
       "      <th>1</th>\n",
       "      <td>57442</td>\n",
       "      <td>15600</td>\n",
       "      <td>17</td>\n",
       "      <td>0.00</td>\n",
       "      <td>63</td>\n",
       "      <td>0</td>\n",
       "      <td>1</td>\n",
       "      <td>0</td>\n",
       "      <td>0</td>\n",
       "      <td>0</td>\n",
       "      <td>Benign</td>\n",
       "    </tr>\n",
       "    <tr>\n",
       "      <th>2</th>\n",
       "      <td>57452</td>\n",
       "      <td>15600</td>\n",
       "      <td>17</td>\n",
       "      <td>0.00</td>\n",
       "      <td>63</td>\n",
       "      <td>0</td>\n",
       "      <td>1</td>\n",
       "      <td>0</td>\n",
       "      <td>0</td>\n",
       "      <td>0</td>\n",
       "      <td>Benign</td>\n",
       "    </tr>\n",
       "    <tr>\n",
       "      <th>3</th>\n",
       "      <td>138</td>\n",
       "      <td>138</td>\n",
       "      <td>17</td>\n",
       "      <td>10.16</td>\n",
       "      <td>472</td>\n",
       "      <td>0</td>\n",
       "      <td>2</td>\n",
       "      <td>0</td>\n",
       "      <td>0</td>\n",
       "      <td>0</td>\n",
       "      <td>Benign</td>\n",
       "    </tr>\n",
       "    <tr>\n",
       "      <th>4</th>\n",
       "      <td>51989</td>\n",
       "      <td>15600</td>\n",
       "      <td>17</td>\n",
       "      <td>0.00</td>\n",
       "      <td>63</td>\n",
       "      <td>0</td>\n",
       "      <td>1</td>\n",
       "      <td>0</td>\n",
       "      <td>0</td>\n",
       "      <td>0</td>\n",
       "      <td>Benign</td>\n",
       "    </tr>\n",
       "  </tbody>\n",
       "</table>\n",
       "</div>"
      ],
      "text/plain": [
       "   L4_SRC_PORT  L4_DST_PORT  PROTOCOL  L7_PROTO  IN_BYTES  OUT_BYTES  IN_PKTS  \\\n",
       "0        63318          443         6     91.00       181        165        2   \n",
       "1        57442        15600        17      0.00        63          0        1   \n",
       "2        57452        15600        17      0.00        63          0        1   \n",
       "3          138          138        17     10.16       472          0        2   \n",
       "4        51989        15600        17      0.00        63          0        1   \n",
       "\n",
       "   OUT_PKTS  TCP_FLAGS  FLOW_DURATION_MILLISECONDS  Attack  \n",
       "0         1         24                         327  Benign  \n",
       "1         0          0                           0  Benign  \n",
       "2         0          0                           0  Benign  \n",
       "3         0          0                           0  Benign  \n",
       "4         0          0                           0  Benign  "
      ]
     },
     "execution_count": 81,
     "metadata": {},
     "output_type": "execute_result"
    }
   ],
   "source": [
    "df = pd.read_csv(csv_file,\n",
    "                 usecols=lambda x: x not in ignore_cols,\n",
    "                 dtype={'Attack': 'category'})\n",
    "df.head()"
   ]
  },
  {
   "cell_type": "markdown",
   "id": "88b535e9-42f9-4cc1-849e-5d8c0263fb3a",
   "metadata": {},
   "source": [
    "The decision tree and random forest classifiers work best with unnormalised data but the VAE requires inputs to conform to a standard normal distribution.\n",
    "This is done using the `transform` and `inverse_transform` methods from the `StandardScaler` class. Before use, the scaler must be 'fit' to the data to caluclate the mean and standard deviation for each feature."
   ]
  },
  {
   "cell_type": "code",
   "execution_count": 82,
   "id": "aa5f573b-25a7-4057-80ce-0e93dca44f58",
   "metadata": {
    "tags": []
   },
   "outputs": [],
   "source": [
    "scaler = StandardScaler().fit(df.iloc[:,:-1])"
   ]
  },
  {
   "cell_type": "markdown",
   "id": "e3067995-7ffa-43d7-b30b-89a10b650393",
   "metadata": {},
   "source": [
    "# Train classifier model"
   ]
  },
  {
   "cell_type": "code",
   "execution_count": 83,
   "id": "b70a7db8-2e96-4b8e-aa8c-e21b460d1447",
   "metadata": {
    "tags": []
   },
   "outputs": [],
   "source": [
    "from sklearn.model_selection import train_test_split\n",
    "from sklearn.metrics import classification_report\n",
    "from xgboost import XGBClassifier, XGBRFClassifier"
   ]
  },
  {
   "cell_type": "code",
   "execution_count": 84,
   "id": "ea6b970c-1807-4d51-a65f-63c3816beb20",
   "metadata": {
    "tags": []
   },
   "outputs": [],
   "source": [
    "X, y = df.iloc[:,:-1], df.iloc[:,-1].cat.codes\n",
    "X_train, X_test, y_train, y_test = train_test_split(X, y, random_state=42)"
   ]
  },
  {
   "cell_type": "code",
   "execution_count": 86,
   "id": "82a02929-1df7-45d2-bd2a-c0b3ec08740c",
   "metadata": {
    "tags": []
   },
   "outputs": [],
   "source": [
    "classifier = XGBRFClassifier(n_estimators=17, random_state=42)\n",
    "classifier.fit(X_train, y_train);"
   ]
  },
  {
   "cell_type": "code",
   "execution_count": 87,
   "id": "d7f0984c-7b4a-4d79-af5b-709fc186d46b",
   "metadata": {
    "tags": []
   },
   "outputs": [
    {
     "name": "stderr",
     "output_type": "stream",
     "text": [
      "C:\\Users\\lh\\dev\\causal-ids\\.env\\Lib\\site-packages\\sklearn\\metrics\\_classification.py:1344: UndefinedMetricWarning: Precision and F-score are ill-defined and being set to 0.0 in labels with no predicted samples. Use `zero_division` parameter to control this behavior.\n",
      "  _warn_prf(average, modifier, msg_start, len(result))\n"
     ]
    },
    {
     "name": "stdout",
     "output_type": "stream",
     "text": [
      "              precision    recall  f1-score   support\n",
      "\n",
      "      Benign       0.99      0.99      0.99     67595\n",
      "        ddos       0.73      0.83      0.78     81953\n",
      "         dos       0.31      0.01      0.01      4468\n",
      "   injection       0.60      0.93      0.73    116783\n",
      "        mitm       0.74      0.18      0.29       334\n",
      "    password       0.33      0.00      0.00     38850\n",
      "    scanning       0.00      0.00      0.00      5384\n",
      "         xss       0.00      0.00      0.00     25136\n",
      "    backdoor       1.00      0.99      0.99      4289\n",
      "  ransomware       0.74      0.93      0.82        27\n",
      "\n",
      "    accuracy                           0.72    344819\n",
      "   macro avg       0.54      0.48      0.46    344819\n",
      "weighted avg       0.63      0.72      0.64    344819\n",
      "\n"
     ]
    },
    {
     "name": "stderr",
     "output_type": "stream",
     "text": [
      "C:\\Users\\lh\\dev\\causal-ids\\.env\\Lib\\site-packages\\sklearn\\metrics\\_classification.py:1344: UndefinedMetricWarning: Precision and F-score are ill-defined and being set to 0.0 in labels with no predicted samples. Use `zero_division` parameter to control this behavior.\n",
      "  _warn_prf(average, modifier, msg_start, len(result))\n",
      "C:\\Users\\lh\\dev\\causal-ids\\.env\\Lib\\site-packages\\sklearn\\metrics\\_classification.py:1344: UndefinedMetricWarning: Precision and F-score are ill-defined and being set to 0.0 in labels with no predicted samples. Use `zero_division` parameter to control this behavior.\n",
      "  _warn_prf(average, modifier, msg_start, len(result))\n"
     ]
    }
   ],
   "source": [
    "y_pred = classifier.predict(X_test)\n",
    "print(classification_report(y_test, y_pred, target_names=df.Attack.cat.categories))"
   ]
  },
  {
   "cell_type": "markdown",
   "id": "38290576-87b7-493c-a30d-b24bb7347ae4",
   "metadata": {
    "tags": []
   },
   "source": [
    "# Train explanation model"
   ]
  },
  {
   "cell_type": "markdown",
   "id": "50de84f1-10f8-413d-893a-42bb3358a11b",
   "metadata": {},
   "source": [
    "The VAE implementation is copied from the paper though the model was altered slightly to suit our dataset."
   ]
  },
  {
   "cell_type": "code",
   "execution_count": 88,
   "id": "6ea9eb3a-6c17-4113-b4cd-a118f819f6f1",
   "metadata": {
    "tags": []
   },
   "outputs": [],
   "source": [
    "import numpy as np\n",
    "import torch\n",
    "import torch.nn as nn\n",
    "\n",
    "from tqdm import tqdm"
   ]
  },
  {
   "cell_type": "markdown",
   "id": "dcf70d69-1cae-4794-b486-f4e5093b8e58",
   "metadata": {},
   "source": [
    "The encoder takes a batch of rows (32 by default) from the training dataset. This is fed forward into a hidden layer first and then into two fully connected layers with outputs of size `z_dim`, which is the size of the latent vector. This is then used to parameterise a normal distribution, which is sampled from to produce the output latents."
   ]
  },
  {
   "cell_type": "code",
   "execution_count": 89,
   "id": "d83ff3ec-5869-4e02-bc95-872e0bb7b96e",
   "metadata": {
    "tags": []
   },
   "outputs": [],
   "source": [
    "class Encoder(nn.Module):\n",
    "    def __init__(self, x_dim, z_dim, hidden_dim=100):\n",
    "        super().__init__()\n",
    "\n",
    "        self.model = nn.Sequential(\n",
    "            nn.Linear(int(x_dim),hidden_dim),\n",
    "            nn.Sigmoid()\n",
    "        )\n",
    "        \n",
    "        self.f_mu = nn.Linear(hidden_dim, z_dim)\n",
    "        self.f_var = nn.Linear(hidden_dim, z_dim)\n",
    "\n",
    "    def encode(self, X):\n",
    "        h1 = self.model(X)\n",
    "        return self.f_mu(h1),self.f_var(h1)\n",
    "    \n",
    "    def reparameterize(self, mu, logvar):\n",
    "        std = torch.exp(0.5*logvar)\n",
    "        eps = torch.randn_like(std)\n",
    "        return mu + eps*std\n",
    "    \n",
    "    def forward(self, X):\n",
    "        mu, logvar = self.encode(X)\n",
    "        z = self.reparameterize(mu, logvar)\n",
    "        return z, mu, logvar"
   ]
  },
  {
   "cell_type": "code",
   "execution_count": 90,
   "id": "5e26440f-d79a-44a5-9f4e-e0c38705ffd7",
   "metadata": {
    "tags": []
   },
   "outputs": [],
   "source": [
    "class Decoder(nn.Module):\n",
    "    def __init__(self, x_dim, z_dim, hidden_dim=100):\n",
    "        super().__init__()\n",
    "\n",
    "        self.model = nn.Sequential(\n",
    "            nn.Linear(z_dim,hidden_dim),\n",
    "            nn.ReLU(),\n",
    "            nn.Linear(hidden_dim,x_dim)\n",
    "        )\n",
    "\n",
    "    def forward(self, z):\n",
    "        X = self.model(z)\n",
    "        return X  "
   ]
  },
  {
   "cell_type": "code",
   "execution_count": 91,
   "id": "fa254293-539e-463e-a8cc-757835359d28",
   "metadata": {
    "tags": []
   },
   "outputs": [],
   "source": [
    "K = 2\n",
    "L = 8"
   ]
  },
  {
   "cell_type": "code",
   "execution_count": 92,
   "id": "b00be26a-b9ba-4328-b17e-eec9e1ff742a",
   "metadata": {
    "tags": []
   },
   "outputs": [],
   "source": [
    "X_train_norm = scaler.transform(X_train)\n",
    "train_loader = torch.utils.data.DataLoader(X_train_norm, batch_size=32)\n",
    "encoder = Encoder(X_train.shape[1], K+L)\n",
    "decoder = Decoder(X_train.shape[1], K+L)\n",
    "decoder.cuda()\n",
    "encoder.cuda();"
   ]
  },
  {
   "cell_type": "code",
   "execution_count": 93,
   "id": "ce2063a0-e106-4c7c-98cd-b485dc97c771",
   "metadata": {
    "tags": []
   },
   "outputs": [],
   "source": [
    "params = list(decoder.parameters()) + list(encoder.parameters())\n",
    "optimizer = torch.optim.Adam(params, lr=0.0001)"
   ]
  },
  {
   "cell_type": "code",
   "execution_count": 94,
   "id": "e0098700-aae4-42fc-9dbb-b83793e151f4",
   "metadata": {
    "tags": []
   },
   "outputs": [],
   "source": [
    "def calc_loss(X, Xhat, z_loc, z_scale):\n",
    "    batch_size = X.shape[0]\n",
    "    sse_loss = torch.nn.MSELoss(reduction = 'sum')\n",
    "    KLD = 1./batch_size + -0.5*torch.sum(1 + z_scale - z_loc.pow(2) - z_scale.exp())\n",
    "    Xhat = torch.Tensor(Xhat).cuda()\n",
    "    mse = 1./batch_size * sse_loss(Xhat, X)\n",
    "    return mse + KLD"
   ]
  },
  {
   "cell_type": "code",
   "execution_count": 95,
   "id": "45900314-1de7-4305-8e50-c577ba79641c",
   "metadata": {
    "tags": []
   },
   "outputs": [],
   "source": [
    "def reconstruct(Xnorm):\n",
    "    z, _, _ = encoder(torch.tensor(Xnorm).cuda().float())\n",
    "    Xhat = scaler.inverse_transform(decoder(z).cpu().detach())\n",
    "    return pd.DataFrame(Xhat, columns=X.columns)"
   ]
  },
  {
   "cell_type": "markdown",
   "id": "5c7be2b7-6a36-4375-acb7-34a262d69f11",
   "metadata": {},
   "source": [
    "This is the function from the paper to calculate the \"causal effect\" or mutual information between the causal latents and classifier result."
   ]
  },
  {
   "cell_type": "code",
   "execution_count": 96,
   "id": "9061a5e6-326a-49b0-a021-5301f46667da",
   "metadata": {
    "tags": []
   },
   "outputs": [],
   "source": [
    "eps = 1e-8\n",
    "\n",
    "def C(a: int, b: int, cats: int, *, independent=False, conditional=False):\n",
    "    I = 0.\n",
    "    qs = np.zeros(cats)\n",
    "    for _ in range(a):\n",
    "        alphas = np.random.randn(a)\n",
    "        latents = np.empty((b,K+L))\n",
    "\n",
    "        for j in range(b):\n",
    "            betas = np.random.randn(b)\n",
    "            latents[j] = np.concatenate((alphas, betas))\n",
    "\n",
    "        Xhat = reconstruct(latents)\n",
    "        yhat = classifier.predict_proba(Xhat)\n",
    "        \n",
    "        ps = np.sum(yhat, axis=0)\n",
    "        ps = ps / b / ps.max() # p(y | alpha)\n",
    "        ps_entropy = np.sum(ps * np.log(ps + eps))\n",
    "        I += ps_entropy / a\n",
    "        qs += ps / a # q(y)\n",
    "    qs_entropy = np.sum(qs * np.log(qs+eps))\n",
    "    I -= qs_entropy\n",
    "    return I"
   ]
  },
  {
   "cell_type": "code",
   "execution_count": 97,
   "id": "9a03385e-2ccc-4ee4-9945-c02aa9581e80",
   "metadata": {
    "tags": []
   },
   "outputs": [],
   "source": [
    "def train(use_cuda=False):\n",
    "    epoch_loss = 0.\n",
    "    \n",
    "    for X in tqdm(train_loader):\n",
    "        if use_cuda:\n",
    "            X = X.cuda()\n",
    "        X = X.float()\n",
    "        optimizer.zero_grad()\n",
    "        z, z_loc, z_scale = encoder(X)\n",
    "        Xhat = scaler.inverse_transform(decoder(z).cpu().detach())\n",
    "        loss = -C(K, L, df['Attack'].cat.categories.size) + 0.05 * calc_loss(X, Xhat, z_loc, z_scale)\n",
    "        loss.backward()\n",
    "        optimizer.step()\n",
    "        epoch_loss += loss\n",
    "    return epoch_loss / train_loader.dataset.shape[0]"
   ]
  },
  {
   "cell_type": "code",
   "execution_count": 98,
   "id": "2016f325-d705-40b1-b600-0dea36ebf7c5",
   "metadata": {
    "tags": []
   },
   "outputs": [
    {
     "name": "stderr",
     "output_type": "stream",
     "text": [
      "100%|████████████████████████████████████████████████████████████████████████████| 32327/32327 [23:31<00:00, 22.90it/s]\n"
     ]
    },
    {
     "data": {
      "text/plain": [
       "tensor(13317648., device='cuda:0', grad_fn=<DivBackward0>)"
      ]
     },
     "execution_count": 98,
     "metadata": {},
     "output_type": "execute_result"
    }
   ],
   "source": [
    "train(True)"
   ]
  },
  {
   "cell_type": "code",
   "execution_count": 99,
   "id": "d153eb71-9ae4-40a4-9a33-2b69f761aeba",
   "metadata": {
    "tags": []
   },
   "outputs": [],
   "source": [
    "X_test_norm = scaler.transform(X_test)\n",
    "X_test_hat = reconstruct(X_test_norm)"
   ]
  },
  {
   "cell_type": "code",
   "execution_count": 100,
   "id": "32e8941b-0dac-4ada-9c68-a32a6f70e857",
   "metadata": {
    "tags": []
   },
   "outputs": [
    {
     "data": {
      "text/html": [
       "<div>\n",
       "<style scoped>\n",
       "    .dataframe tbody tr th:only-of-type {\n",
       "        vertical-align: middle;\n",
       "    }\n",
       "\n",
       "    .dataframe tbody tr th {\n",
       "        vertical-align: top;\n",
       "    }\n",
       "\n",
       "    .dataframe thead th {\n",
       "        text-align: right;\n",
       "    }\n",
       "</style>\n",
       "<table border=\"1\" class=\"dataframe\">\n",
       "  <thead>\n",
       "    <tr style=\"text-align: right;\">\n",
       "      <th></th>\n",
       "      <th>L4_SRC_PORT</th>\n",
       "      <th>L4_DST_PORT</th>\n",
       "      <th>PROTOCOL</th>\n",
       "      <th>L7_PROTO</th>\n",
       "      <th>IN_BYTES</th>\n",
       "      <th>OUT_BYTES</th>\n",
       "      <th>IN_PKTS</th>\n",
       "      <th>OUT_PKTS</th>\n",
       "      <th>TCP_FLAGS</th>\n",
       "      <th>FLOW_DURATION_MILLISECONDS</th>\n",
       "    </tr>\n",
       "  </thead>\n",
       "  <tbody>\n",
       "    <tr>\n",
       "      <th>0</th>\n",
       "      <td>44123.085046</td>\n",
       "      <td>5886.054909</td>\n",
       "      <td>6.225259</td>\n",
       "      <td>30.008155</td>\n",
       "      <td>35263.318379</td>\n",
       "      <td>-12524.637230</td>\n",
       "      <td>-118.959081</td>\n",
       "      <td>472.280284</td>\n",
       "      <td>22.766611</td>\n",
       "      <td>55647.538622</td>\n",
       "    </tr>\n",
       "    <tr>\n",
       "      <th>1</th>\n",
       "      <td>45012.632554</td>\n",
       "      <td>8519.634431</td>\n",
       "      <td>7.226421</td>\n",
       "      <td>36.421558</td>\n",
       "      <td>31408.160147</td>\n",
       "      <td>10564.717236</td>\n",
       "      <td>-592.841222</td>\n",
       "      <td>637.481299</td>\n",
       "      <td>25.144782</td>\n",
       "      <td>62517.974033</td>\n",
       "    </tr>\n",
       "    <tr>\n",
       "      <th>2</th>\n",
       "      <td>50740.545374</td>\n",
       "      <td>-926.458363</td>\n",
       "      <td>7.814044</td>\n",
       "      <td>14.485936</td>\n",
       "      <td>8654.845786</td>\n",
       "      <td>8130.548107</td>\n",
       "      <td>-1203.464033</td>\n",
       "      <td>509.786975</td>\n",
       "      <td>22.292382</td>\n",
       "      <td>-34766.341460</td>\n",
       "    </tr>\n",
       "    <tr>\n",
       "      <th>3</th>\n",
       "      <td>44222.591964</td>\n",
       "      <td>8331.264775</td>\n",
       "      <td>6.532880</td>\n",
       "      <td>25.807683</td>\n",
       "      <td>35583.105807</td>\n",
       "      <td>15891.786356</td>\n",
       "      <td>-1248.520521</td>\n",
       "      <td>625.447066</td>\n",
       "      <td>22.920582</td>\n",
       "      <td>50520.890822</td>\n",
       "    </tr>\n",
       "    <tr>\n",
       "      <th>4</th>\n",
       "      <td>43996.833114</td>\n",
       "      <td>6958.628121</td>\n",
       "      <td>7.516494</td>\n",
       "      <td>6.624276</td>\n",
       "      <td>35153.001131</td>\n",
       "      <td>-1478.887139</td>\n",
       "      <td>-740.294571</td>\n",
       "      <td>80.952522</td>\n",
       "      <td>20.020696</td>\n",
       "      <td>12184.901365</td>\n",
       "    </tr>\n",
       "    <tr>\n",
       "      <th>...</th>\n",
       "      <td>...</td>\n",
       "      <td>...</td>\n",
       "      <td>...</td>\n",
       "      <td>...</td>\n",
       "      <td>...</td>\n",
       "      <td>...</td>\n",
       "      <td>...</td>\n",
       "      <td>...</td>\n",
       "      <td>...</td>\n",
       "      <td>...</td>\n",
       "    </tr>\n",
       "    <tr>\n",
       "      <th>344814</th>\n",
       "      <td>41115.684318</td>\n",
       "      <td>7448.334759</td>\n",
       "      <td>6.494275</td>\n",
       "      <td>21.385445</td>\n",
       "      <td>37774.510214</td>\n",
       "      <td>-9996.742674</td>\n",
       "      <td>-24.667453</td>\n",
       "      <td>-14.377236</td>\n",
       "      <td>21.652719</td>\n",
       "      <td>11399.990425</td>\n",
       "    </tr>\n",
       "    <tr>\n",
       "      <th>344815</th>\n",
       "      <td>45439.129688</td>\n",
       "      <td>222.933623</td>\n",
       "      <td>6.584344</td>\n",
       "      <td>21.540037</td>\n",
       "      <td>45213.488678</td>\n",
       "      <td>-21324.438405</td>\n",
       "      <td>42.136554</td>\n",
       "      <td>370.056424</td>\n",
       "      <td>21.632667</td>\n",
       "      <td>39776.648483</td>\n",
       "    </tr>\n",
       "    <tr>\n",
       "      <th>344816</th>\n",
       "      <td>37700.601143</td>\n",
       "      <td>2608.265424</td>\n",
       "      <td>6.010467</td>\n",
       "      <td>35.291555</td>\n",
       "      <td>20287.446938</td>\n",
       "      <td>8054.867268</td>\n",
       "      <td>-736.782432</td>\n",
       "      <td>568.457140</td>\n",
       "      <td>23.375727</td>\n",
       "      <td>75833.394078</td>\n",
       "    </tr>\n",
       "    <tr>\n",
       "      <th>344817</th>\n",
       "      <td>41000.345132</td>\n",
       "      <td>14850.776248</td>\n",
       "      <td>6.562725</td>\n",
       "      <td>31.651366</td>\n",
       "      <td>40999.152335</td>\n",
       "      <td>-14736.678204</td>\n",
       "      <td>-484.438599</td>\n",
       "      <td>301.076348</td>\n",
       "      <td>19.288318</td>\n",
       "      <td>110140.532180</td>\n",
       "    </tr>\n",
       "    <tr>\n",
       "      <th>344818</th>\n",
       "      <td>36799.890825</td>\n",
       "      <td>7582.986677</td>\n",
       "      <td>5.962335</td>\n",
       "      <td>38.044815</td>\n",
       "      <td>56664.891097</td>\n",
       "      <td>-23854.697060</td>\n",
       "      <td>-822.423832</td>\n",
       "      <td>519.632472</td>\n",
       "      <td>20.717672</td>\n",
       "      <td>66070.973854</td>\n",
       "    </tr>\n",
       "  </tbody>\n",
       "</table>\n",
       "<p>344819 rows × 10 columns</p>\n",
       "</div>"
      ],
      "text/plain": [
       "         L4_SRC_PORT   L4_DST_PORT  PROTOCOL   L7_PROTO      IN_BYTES  \\\n",
       "0       44123.085046   5886.054909  6.225259  30.008155  35263.318379   \n",
       "1       45012.632554   8519.634431  7.226421  36.421558  31408.160147   \n",
       "2       50740.545374   -926.458363  7.814044  14.485936   8654.845786   \n",
       "3       44222.591964   8331.264775  6.532880  25.807683  35583.105807   \n",
       "4       43996.833114   6958.628121  7.516494   6.624276  35153.001131   \n",
       "...              ...           ...       ...        ...           ...   \n",
       "344814  41115.684318   7448.334759  6.494275  21.385445  37774.510214   \n",
       "344815  45439.129688    222.933623  6.584344  21.540037  45213.488678   \n",
       "344816  37700.601143   2608.265424  6.010467  35.291555  20287.446938   \n",
       "344817  41000.345132  14850.776248  6.562725  31.651366  40999.152335   \n",
       "344818  36799.890825   7582.986677  5.962335  38.044815  56664.891097   \n",
       "\n",
       "           OUT_BYTES      IN_PKTS    OUT_PKTS  TCP_FLAGS  \\\n",
       "0      -12524.637230  -118.959081  472.280284  22.766611   \n",
       "1       10564.717236  -592.841222  637.481299  25.144782   \n",
       "2        8130.548107 -1203.464033  509.786975  22.292382   \n",
       "3       15891.786356 -1248.520521  625.447066  22.920582   \n",
       "4       -1478.887139  -740.294571   80.952522  20.020696   \n",
       "...              ...          ...         ...        ...   \n",
       "344814  -9996.742674   -24.667453  -14.377236  21.652719   \n",
       "344815 -21324.438405    42.136554  370.056424  21.632667   \n",
       "344816   8054.867268  -736.782432  568.457140  23.375727   \n",
       "344817 -14736.678204  -484.438599  301.076348  19.288318   \n",
       "344818 -23854.697060  -822.423832  519.632472  20.717672   \n",
       "\n",
       "        FLOW_DURATION_MILLISECONDS  \n",
       "0                     55647.538622  \n",
       "1                     62517.974033  \n",
       "2                    -34766.341460  \n",
       "3                     50520.890822  \n",
       "4                     12184.901365  \n",
       "...                            ...  \n",
       "344814                11399.990425  \n",
       "344815                39776.648483  \n",
       "344816                75833.394078  \n",
       "344817               110140.532180  \n",
       "344818                66070.973854  \n",
       "\n",
       "[344819 rows x 10 columns]"
      ]
     },
     "execution_count": 100,
     "metadata": {},
     "output_type": "execute_result"
    }
   ],
   "source": [
    "X_test_hat"
   ]
  },
  {
   "cell_type": "code",
   "execution_count": 101,
   "id": "ccf512fa-b610-44d6-8d68-5b407986b4ce",
   "metadata": {
    "tags": []
   },
   "outputs": [
    {
     "name": "stderr",
     "output_type": "stream",
     "text": [
      "C:\\Users\\lh\\dev\\causal-ids\\.env\\Lib\\site-packages\\sklearn\\metrics\\_classification.py:1344: UndefinedMetricWarning: Precision and F-score are ill-defined and being set to 0.0 in labels with no predicted samples. Use `zero_division` parameter to control this behavior.\n",
      "  _warn_prf(average, modifier, msg_start, len(result))\n",
      "C:\\Users\\lh\\dev\\causal-ids\\.env\\Lib\\site-packages\\sklearn\\metrics\\_classification.py:1344: UndefinedMetricWarning: Precision and F-score are ill-defined and being set to 0.0 in labels with no predicted samples. Use `zero_division` parameter to control this behavior.\n",
      "  _warn_prf(average, modifier, msg_start, len(result))\n"
     ]
    },
    {
     "name": "stdout",
     "output_type": "stream",
     "text": [
      "              precision    recall  f1-score   support\n",
      "\n",
      "      Benign       0.19      0.31      0.24     67595\n",
      "        ddos       0.24      0.19      0.21     81953\n",
      "         dos       0.00      0.00      0.00      4468\n",
      "   injection       0.35      0.00      0.00    116783\n",
      "        mitm       0.00      0.00      0.00       334\n",
      "    password       0.00      0.00      0.00     38850\n",
      "    scanning       0.00      0.00      0.00      5384\n",
      "         xss       0.00      0.00      0.00     25136\n",
      "    backdoor       0.01      0.50      0.02      4289\n",
      "  ransomware       0.00      0.00      0.00        27\n",
      "\n",
      "    accuracy                           0.11    344819\n",
      "   macro avg       0.08      0.10      0.05    344819\n",
      "weighted avg       0.22      0.11      0.10    344819\n",
      "\n"
     ]
    },
    {
     "name": "stderr",
     "output_type": "stream",
     "text": [
      "C:\\Users\\lh\\dev\\causal-ids\\.env\\Lib\\site-packages\\sklearn\\metrics\\_classification.py:1344: UndefinedMetricWarning: Precision and F-score are ill-defined and being set to 0.0 in labels with no predicted samples. Use `zero_division` parameter to control this behavior.\n",
      "  _warn_prf(average, modifier, msg_start, len(result))\n"
     ]
    }
   ],
   "source": [
    "y_pred = classifier.predict(X_test_hat)\n",
    "print(classification_report(y_test, y_pred, target_names=df.Attack.cat.categories))"
   ]
  },
  {
   "cell_type": "markdown",
   "id": "f09172b8-7c9c-44ac-9b52-d0a665339373",
   "metadata": {},
   "source": [
    "# Visualisation"
   ]
  },
  {
   "cell_type": "code",
   "execution_count": 102,
   "id": "fecfc6c5-9158-43c1-b810-b97d2b401b59",
   "metadata": {
    "tags": []
   },
   "outputs": [],
   "source": [
    "z_sweep = range(-30, 30, 5)\n",
    "sweep_X = X_test_norm[0]"
   ]
  },
  {
   "cell_type": "code",
   "execution_count": 103,
   "id": "23d88599-f459-45fe-b0f7-91b5359682fd",
   "metadata": {
    "tags": []
   },
   "outputs": [],
   "source": [
    "enc_z, _, _ = encoder(torch.tensor(sweep_X).cuda().float())"
   ]
  },
  {
   "cell_type": "code",
   "execution_count": 104,
   "id": "d61e8fe9-6900-4ba1-98ae-da1d16e7f37d",
   "metadata": {
    "tags": []
   },
   "outputs": [],
   "source": [
    "zz = []\n",
    "for nudge in z_sweep:\n",
    "    ar = enc_z.clone()\n",
    "    ar[0:K] += nudge\n",
    "    dec_X = scaler.inverse_transform(decoder(ar).cpu().detach().reshape(1, -1))\n",
    "    zz.append((\n",
    "        ar,\n",
    "        dec_X,\n",
    "        classifier.predict(dec_X)\n",
    "    ))"
   ]
  },
  {
   "cell_type": "code",
   "execution_count": 105,
   "id": "27935af9-ba3a-4d61-b10d-fae65393a957",
   "metadata": {
    "tags": []
   },
   "outputs": [
    {
     "name": "stdout",
     "output_type": "stream",
     "text": [
      "Sweeping from -30 to +30 in steps of 5\n",
      "Causal vars: [-30, -29], result: Benign\n",
      "Causal vars: [-25, -24], result: Benign\n",
      "Causal vars: [-20, -19], result: Benign\n",
      "Causal vars: [-15, -14], result: Benign\n",
      "Causal vars: [-10, -9], result: backdoor\n",
      "Causal vars: [-5, -4], result: backdoor\n",
      "Causal vars: [0, 0], result: backdoor\n",
      "Causal vars: [4, 5], result: ddos\n",
      "Causal vars: [9, 10], result: ddos\n",
      "Causal vars: [14, 15], result: ddos\n",
      "Causal vars: [19, 20], result: backdoor\n",
      "Causal vars: [24, 25], result: backdoor\n"
     ]
    }
   ],
   "source": [
    "print(\"Sweeping from -30 to +30 in steps of 5\")\n",
    "cats = df['Attack'].cat.categories\n",
    "for enc, dec, res in zz:\n",
    "    causal = [int(x) for x in enc.tolist()[:K]]\n",
    "    print(f\"Causal vars: {causal}, result: {cats[res][0]}\")"
   ]
  },
  {
   "cell_type": "code",
   "execution_count": 106,
   "id": "1c2225fc-5503-4cdf-aa83-4e329603093e",
   "metadata": {
    "tags": []
   },
   "outputs": [
    {
     "name": "stderr",
     "output_type": "stream",
     "text": [
      "C:\\Users\\lh\\dev\\causal-ids\\.env\\Lib\\site-packages\\sklearn\\base.py:439: UserWarning: X does not have valid feature names, but StandardScaler was fitted with feature names\n",
      "  warnings.warn(\n"
     ]
    }
   ],
   "source": [
    "before = sweep_X\n",
    "after = scaler.transform(zz[7][1])\n",
    "feature_names = df.columns[:-1]"
   ]
  },
  {
   "cell_type": "code",
   "execution_count": 107,
   "id": "84bd05ea-fae7-4a3b-b948-fcf4f6b36a8c",
   "metadata": {
    "tags": []
   },
   "outputs": [],
   "source": [
    "import matplotlib.pyplot as plt"
   ]
  },
  {
   "cell_type": "code",
   "execution_count": 108,
   "id": "865b4d48-dfe3-46f3-acaa-c0c29b2386b0",
   "metadata": {
    "tags": []
   },
   "outputs": [
    {
     "data": {
      "text/html": [
       "<div>\n",
       "<style scoped>\n",
       "    .dataframe tbody tr th:only-of-type {\n",
       "        vertical-align: middle;\n",
       "    }\n",
       "\n",
       "    .dataframe tbody tr th {\n",
       "        vertical-align: top;\n",
       "    }\n",
       "\n",
       "    .dataframe thead th {\n",
       "        text-align: right;\n",
       "    }\n",
       "</style>\n",
       "<table border=\"1\" class=\"dataframe\">\n",
       "  <thead>\n",
       "    <tr style=\"text-align: right;\">\n",
       "      <th></th>\n",
       "      <th>Features</th>\n",
       "      <th>Before</th>\n",
       "      <th>After</th>\n",
       "      <th>Importance</th>\n",
       "    </tr>\n",
       "  </thead>\n",
       "  <tbody>\n",
       "    <tr>\n",
       "      <th>0</th>\n",
       "      <td>IN_BYTES</td>\n",
       "      <td>-0.005665</td>\n",
       "      <td>0.233181</td>\n",
       "      <td>0.012476</td>\n",
       "    </tr>\n",
       "    <tr>\n",
       "      <th>1</th>\n",
       "      <td>FLOW_DURATION_MILLISECONDS</td>\n",
       "      <td>-0.051212</td>\n",
       "      <td>1.067776</td>\n",
       "      <td>0.023274</td>\n",
       "    </tr>\n",
       "    <tr>\n",
       "      <th>2</th>\n",
       "      <td>L4_SRC_PORT</td>\n",
       "      <td>0.590043</td>\n",
       "      <td>0.089120</td>\n",
       "      <td>0.033855</td>\n",
       "    </tr>\n",
       "    <tr>\n",
       "      <th>3</th>\n",
       "      <td>IN_PKTS</td>\n",
       "      <td>-0.004508</td>\n",
       "      <td>-0.601386</td>\n",
       "      <td>0.034675</td>\n",
       "    </tr>\n",
       "    <tr>\n",
       "      <th>4</th>\n",
       "      <td>L7_PROTO</td>\n",
       "      <td>-0.613615</td>\n",
       "      <td>0.284245</td>\n",
       "      <td>0.039081</td>\n",
       "    </tr>\n",
       "    <tr>\n",
       "      <th>5</th>\n",
       "      <td>OUT_BYTES</td>\n",
       "      <td>-0.004906</td>\n",
       "      <td>-0.123435</td>\n",
       "      <td>0.050773</td>\n",
       "    </tr>\n",
       "    <tr>\n",
       "      <th>6</th>\n",
       "      <td>PROTOCOL</td>\n",
       "      <td>-0.301000</td>\n",
       "      <td>-0.651070</td>\n",
       "      <td>0.052976</td>\n",
       "    </tr>\n",
       "    <tr>\n",
       "      <th>7</th>\n",
       "      <td>OUT_PKTS</td>\n",
       "      <td>-0.003239</td>\n",
       "      <td>1.040892</td>\n",
       "      <td>0.149502</td>\n",
       "    </tr>\n",
       "    <tr>\n",
       "      <th>8</th>\n",
       "      <td>TCP_FLAGS</td>\n",
       "      <td>0.705718</td>\n",
       "      <td>1.109586</td>\n",
       "      <td>0.200292</td>\n",
       "    </tr>\n",
       "    <tr>\n",
       "      <th>9</th>\n",
       "      <td>L4_DST_PORT</td>\n",
       "      <td>-0.418907</td>\n",
       "      <td>0.086754</td>\n",
       "      <td>0.403096</td>\n",
       "    </tr>\n",
       "  </tbody>\n",
       "</table>\n",
       "</div>"
      ],
      "text/plain": [
       "                     Features    Before     After  Importance\n",
       "0                    IN_BYTES -0.005665  0.233181    0.012476\n",
       "1  FLOW_DURATION_MILLISECONDS -0.051212  1.067776    0.023274\n",
       "2                 L4_SRC_PORT  0.590043  0.089120    0.033855\n",
       "3                     IN_PKTS -0.004508 -0.601386    0.034675\n",
       "4                    L7_PROTO -0.613615  0.284245    0.039081\n",
       "5                   OUT_BYTES -0.004906 -0.123435    0.050773\n",
       "6                    PROTOCOL -0.301000 -0.651070    0.052976\n",
       "7                    OUT_PKTS -0.003239  1.040892    0.149502\n",
       "8                   TCP_FLAGS  0.705718  1.109586    0.200292\n",
       "9                 L4_DST_PORT -0.418907  0.086754    0.403096"
      ]
     },
     "execution_count": 108,
     "metadata": {},
     "output_type": "execute_result"
    }
   ],
   "source": [
    "viz_df = pd.DataFrame(zip(feature_names, before, after.reshape(10), classifier.feature_importances_), columns=['Features', 'Before', 'After', 'Importance'])\n",
    "viz_df.sort_values('Importance', inplace=True, ignore_index=True)\n",
    "viz_df"
   ]
  },
  {
   "cell_type": "code",
   "execution_count": 109,
   "id": "7f0a0172-c8cd-4f4f-950f-1495dc1b2514",
   "metadata": {
    "tags": []
   },
   "outputs": [
    {
     "data": {
      "image/png": "[encoded data removed]",
      "text/plain": [
       "<Figure size 640x480 with 1 Axes>"
      ]
     },
     "metadata": {},
     "output_type": "display_data"
    }
   ],
   "source": [
    "plt.scatter(viz_df.Before, viz_df.Features, label='Before')\n",
    "plt.scatter(viz_df.After, viz_df.Features, label='After')\n",
    "plt.hlines(y=viz_df.Features, xmin=viz_df.Before, xmax=viz_df.After)\n",
    "plt.legend(loc='upper right')\n",
    "plt.title('Transmute Backdoor$\\\\rightarrow$DDoS, by feature importance')\n",
    "plt.xlim([-1,2])\n",
    "plt.savefig('tranmuted_sample.png', bbox_inches = \"tight\");"
   ]
  },
  {
   "cell_type": "code",
   "execution_count": 33,
   "id": "7079407a-9092-4fce-90f3-2df169166066",
   "metadata": {
    "tags": []
   },
   "outputs": [],
   "source": [
    "zz = []\n",
    "for nudge in z_sweep:\n",
    "    ar = enc_z.clone()\n",
    "    ar[-L:] += nudge\n",
    "    dec_X = decoder(ar)\n",
    "    zz.append((\n",
    "        ar,\n",
    "        dec_X,\n",
    "        classifier.predict(dec_X.view([1,10]).cpu().detach(), validate_features=False)\n",
    "    ))"
   ]
  },
  {
   "cell_type": "code",
   "execution_count": 34,
   "id": "5e3446b8-8cef-447e-bebc-9843b3fcd843",
   "metadata": {
    "tags": []
   },
   "outputs": [
    {
     "name": "stdout",
     "output_type": "stream",
     "text": [
      "Sweeping from -30 to +30 in steps of 5\n",
      "Non-causal vars: [-30, -30, -29, -28, -29, -30, -30, -30], result: Reconnaissance\n",
      "Non-causal vars: [-25, -25, -24, -23, -24, -25, -25, -25], result: Reconnaissance\n",
      "Non-causal vars: [-20, -20, -19, -18, -19, -20, -20, -20], result: Reconnaissance\n",
      "Non-causal vars: [-15, -15, -14, -13, -14, -15, -15, -15], result: Reconnaissance\n",
      "Non-causal vars: [-10, -10, -9, -8, -9, -10, -10, -10], result: Reconnaissance\n",
      "Non-causal vars: [-5, -5, -4, -3, -4, -5, -5, -5], result: Reconnaissance\n",
      "Non-causal vars: [0, 0, 0, 1, 0, 0, 0, 0], result: DDoS\n",
      "Non-causal vars: [4, 4, 5, 6, 5, 4, 4, 4], result: DDoS\n",
      "Non-causal vars: [9, 9, 10, 11, 10, 9, 9, 9], result: DDoS\n",
      "Non-causal vars: [14, 14, 15, 16, 15, 14, 14, 14], result: DDoS\n",
      "Non-causal vars: [19, 19, 20, 21, 20, 19, 19, 19], result: DDoS\n",
      "Non-causal vars: [24, 24, 25, 26, 25, 24, 24, 24], result: DDoS\n"
     ]
    }
   ],
   "source": [
    "print(\"Sweeping from -30 to +30 in steps of 5\")\n",
    "cats = df['Attack'].cat.categories\n",
    "for enc, dec, res in zz:\n",
    "    noncausal = [int(x) for x in enc.tolist()[-L:]]\n",
    "    print(f\"Non-causal vars: {noncausal}, result: {cats[res][0]}\")"
   ]
  },
  {
   "cell_type": "code",
   "execution_count": null,
   "id": "bcc93188-e726-4f9e-ba03-9ea83206bddd",
   "metadata": {
    "tags": []
   },
   "outputs": [],
   "source": [
    "print(\"Feature importance:\")\n",
    "for feature, importance in zip(X.columns, classifier.feature_importances_):\n",
    "    print(f\"{feature}: {importance:.2f}\")"
   ]
  },
  {
   "cell_type": "code",
   "execution_count": null,
   "id": "e246e1c5-5653-4987-ab22-a1b93604e150",
   "metadata": {
    "tags": []
   },
   "outputs": [],
   "source": [
    "sweep_X = X_test_norm\n",
    "true_y = classifier.predict(sweep_X)\n",
    "recon = sweep_X[true_y == 3]"
   ]
  },
  {
   "cell_type": "code",
   "execution_count": null,
   "id": "7022838d-7c12-479e-bce3-2f4d2ef1289f",
   "metadata": {
    "tags": []
   },
   "outputs": [],
   "source": [
    "enc_z, _, _ = encoder(torch.tensor(recon).cuda().float())"
   ]
  },
  {
   "cell_type": "code",
   "execution_count": null,
   "id": "3547e330-75ca-47bd-8850-84125305f3d3",
   "metadata": {
    "tags": []
   },
   "outputs": [],
   "source": [
    "for nudge in range(15):\n",
    "    new_z = enc_z.clone()\n",
    "    enc_z[:,:K] += nudge\n",
    "    decoded = decoder(new_z)\n",
    "    y_pred = classifier.predict(scaler.inverse_transform(decoded.cpu().detach()))"
   ]
  },
  {
   "cell_type": "code",
   "execution_count": null,
   "id": "bb958751-e9ca-4968-b3a6-eb830568b108",
   "metadata": {
    "tags": []
   },
   "outputs": [],
   "source": [
    "enc_z[:,:K] += 15.\n",
    "y_pred = classifier.predict(scaler.inverse_transform(decoder(enc_z).cpu().detach()))"
   ]
  },
  {
   "cell_type": "code",
   "execution_count": null,
   "id": "05cb4e62-60fe-4345-ab9a-9db89f4f3d13",
   "metadata": {
    "tags": []
   },
   "outputs": [],
   "source": [
    "print(classification_report(y_test[true_y == 3], y_pred, target_names=df.Attack.cat.categories))"
   ]
  }
 ],
 "metadata": {
  "kernelspec": {
   "display_name": "Python (Causal IDS)",
   "language": "python",
   "name": "causal-ids"
  },
  "language_info": {
   "codemirror_mode": {
    "name": "ipython",
    "version": 3
   },
   "file_extension": ".py",
   "mimetype": "text/x-python",
   "name": "python",
   "nbconvert_exporter": "python",
   "pygments_lexer": "ipython3",
   "version": "3.11.2"
  }
 },
 "nbformat": 4,
 "nbformat_minor": 5
}
