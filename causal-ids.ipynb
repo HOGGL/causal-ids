{
 "cells": [
  {
   "cell_type": "markdown",
   "id": "5b83b616-4f34-4cd5-b75f-8da6c069f360",
   "metadata": {},
   "source": [
    "    This Source Code Form is subject to the terms of the Mozilla Public\n",
    "    License, v. 2.0. If a copy of the MPL was not distributed with this\n",
    "    file, You can obtain one at http://mozilla.org/MPL/2.0/."
   ]
  },
  {
   "cell_type": "markdown",
   "id": "1de58542-4bee-4916-9bed-a912b6d4983f",
   "metadata": {},
   "source": [
    "# Load and preprocess dataset"
   ]
  },
  {
   "cell_type": "code",
   "execution_count": 1,
   "id": "9b70407f-74c8-46f1-9311-461b1096e217",
   "metadata": {
    "tags": []
   },
   "outputs": [],
   "source": [
    "import pandas as pd\n",
    "from sklearn.compose import ColumnTransformer\n",
    "from sklearn.preprocessing import StandardScaler, OrdinalEncoder\n",
    "\n",
    "from pathlib import Path"
   ]
  },
  {
   "cell_type": "code",
   "execution_count": 5,
   "id": "33923fd5-1e58-40ac-b07f-cf6cea559bae",
   "metadata": {
    "tags": []
   },
   "outputs": [],
   "source": [
    "dsn = 'NF-BoT-IoT.csv'\n",
    "dataset = Path('datasets/netflow-v1') / dsn\n",
    "ignore_cols = {'IPV4_SRC_ADDR', 'IPV4_DST_ADDR', 'Label'}"
   ]
  },
  {
   "cell_type": "code",
   "execution_count": 7,
   "id": "ebb40576-9084-4acf-b091-ed10a8de8ca1",
   "metadata": {
    "tags": []
   },
   "outputs": [
    {
     "data": {
      "text/html": [
       "<div>\n",
       "<style scoped>\n",
       "    .dataframe tbody tr th:only-of-type {\n",
       "        vertical-align: middle;\n",
       "    }\n",
       "\n",
       "    .dataframe tbody tr th {\n",
       "        vertical-align: top;\n",
       "    }\n",
       "\n",
       "    .dataframe thead th {\n",
       "        text-align: right;\n",
       "    }\n",
       "</style>\n",
       "<table border=\"1\" class=\"dataframe\">\n",
       "  <thead>\n",
       "    <tr style=\"text-align: right;\">\n",
       "      <th></th>\n",
       "      <th>L4_SRC_PORT</th>\n",
       "      <th>L4_DST_PORT</th>\n",
       "      <th>PROTOCOL</th>\n",
       "      <th>L7_PROTO</th>\n",
       "      <th>IN_BYTES</th>\n",
       "      <th>OUT_BYTES</th>\n",
       "      <th>IN_PKTS</th>\n",
       "      <th>OUT_PKTS</th>\n",
       "      <th>TCP_FLAGS</th>\n",
       "      <th>FLOW_DURATION_MILLISECONDS</th>\n",
       "      <th>Attack</th>\n",
       "    </tr>\n",
       "  </thead>\n",
       "  <tbody>\n",
       "    <tr>\n",
       "      <th>0</th>\n",
       "      <td>52670</td>\n",
       "      <td>53</td>\n",
       "      <td>17</td>\n",
       "      <td>5.212</td>\n",
       "      <td>71</td>\n",
       "      <td>126</td>\n",
       "      <td>1</td>\n",
       "      <td>1</td>\n",
       "      <td>0</td>\n",
       "      <td>4294966</td>\n",
       "      <td>Benign</td>\n",
       "    </tr>\n",
       "    <tr>\n",
       "      <th>1</th>\n",
       "      <td>49160</td>\n",
       "      <td>4444</td>\n",
       "      <td>6</td>\n",
       "      <td>0.000</td>\n",
       "      <td>217753000</td>\n",
       "      <td>199100</td>\n",
       "      <td>4521</td>\n",
       "      <td>4049</td>\n",
       "      <td>24</td>\n",
       "      <td>4176249</td>\n",
       "      <td>Theft</td>\n",
       "    </tr>\n",
       "    <tr>\n",
       "      <th>2</th>\n",
       "      <td>3456</td>\n",
       "      <td>80</td>\n",
       "      <td>17</td>\n",
       "      <td>0.000</td>\n",
       "      <td>8508021</td>\n",
       "      <td>8918372</td>\n",
       "      <td>9086</td>\n",
       "      <td>9086</td>\n",
       "      <td>0</td>\n",
       "      <td>4175916</td>\n",
       "      <td>Benign</td>\n",
       "    </tr>\n",
       "    <tr>\n",
       "      <th>3</th>\n",
       "      <td>80</td>\n",
       "      <td>8080</td>\n",
       "      <td>6</td>\n",
       "      <td>7.000</td>\n",
       "      <td>8442138</td>\n",
       "      <td>9013406</td>\n",
       "      <td>9086</td>\n",
       "      <td>9086</td>\n",
       "      <td>0</td>\n",
       "      <td>4175916</td>\n",
       "      <td>Benign</td>\n",
       "    </tr>\n",
       "    <tr>\n",
       "      <th>4</th>\n",
       "      <td>80</td>\n",
       "      <td>80</td>\n",
       "      <td>6</td>\n",
       "      <td>7.000</td>\n",
       "      <td>8374706</td>\n",
       "      <td>0</td>\n",
       "      <td>9086</td>\n",
       "      <td>0</td>\n",
       "      <td>0</td>\n",
       "      <td>4175916</td>\n",
       "      <td>Benign</td>\n",
       "    </tr>\n",
       "  </tbody>\n",
       "</table>\n",
       "</div>"
      ],
      "text/plain": [
       "   L4_SRC_PORT  L4_DST_PORT  PROTOCOL  L7_PROTO   IN_BYTES  OUT_BYTES  \\\n",
       "0        52670           53        17     5.212         71        126   \n",
       "1        49160         4444         6     0.000  217753000     199100   \n",
       "2         3456           80        17     0.000    8508021    8918372   \n",
       "3           80         8080         6     7.000    8442138    9013406   \n",
       "4           80           80         6     7.000    8374706          0   \n",
       "\n",
       "   IN_PKTS  OUT_PKTS  TCP_FLAGS  FLOW_DURATION_MILLISECONDS  Attack  \n",
       "0        1         1          0                     4294966  Benign  \n",
       "1     4521      4049         24                     4176249   Theft  \n",
       "2     9086      9086          0                     4175916  Benign  \n",
       "3     9086      9086          0                     4175916  Benign  \n",
       "4     9086         0          0                     4175916  Benign  "
      ]
     },
     "execution_count": 7,
     "metadata": {},
     "output_type": "execute_result"
    }
   ],
   "source": [
    "df = pd.read_csv(dataset, usecols=lambda x: x not in ignore_cols)\n",
    "df.head()"
   ]
  },
  {
   "cell_type": "code",
   "execution_count": 39,
   "id": "bf812f48-11a6-469b-b4f3-a7a1ca9eefdc",
   "metadata": {
    "tags": []
   },
   "outputs": [
    {
     "data": {
      "text/plain": [
       "array(['cat__Attack', 'cat__TCP_FLAGS', 'cat__PROTOCOL',\n",
       "       'remainder__L4_SRC_PORT', 'remainder__L4_DST_PORT',\n",
       "       'remainder__L7_PROTO', 'remainder__IN_BYTES',\n",
       "       'remainder__OUT_BYTES', 'remainder__IN_PKTS',\n",
       "       'remainder__OUT_PKTS', 'remainder__FLOW_DURATION_MILLISECONDS'],\n",
       "      dtype=object)"
      ]
     },
     "execution_count": 39,
     "metadata": {},
     "output_type": "execute_result"
    }
   ],
   "source": [
    "trns = ColumnTransformer([('cat', OrdinalEncoder(), ['Attack', 'TCP_FLAGS', 'PROTOCOL'])],\n",
    "                         remainder=StandardScaler())\n",
    "data = trns.fit_transform(df)\n",
    "trns.get_feature_names_out()"
   ]
  },
  {
   "cell_type": "markdown",
   "id": "e3067995-7ffa-43d7-b30b-89a10b650393",
   "metadata": {},
   "source": [
    "# Train classifier model"
   ]
  },
  {
   "cell_type": "code",
   "execution_count": 98,
   "id": "f6b36d9f-25be-4ada-b77a-b8dc81b058e2",
   "metadata": {
    "tags": []
   },
   "outputs": [],
   "source": [
    "import numpy as np\n",
    "\n",
    "from xgboost import XGBClassifier\n",
    "from sklearn.model_selection import train_test_split"
   ]
  },
  {
   "cell_type": "code",
   "execution_count": 65,
   "id": "e5e46bb4-25a9-4c51-b883-c01d5bbb57f5",
   "metadata": {
    "tags": []
   },
   "outputs": [],
   "source": [
    "y, X = np.hsplit(data, [1])\n",
    "X_train, X_test, y_train, y_test = train_test_split(X, y, test_size=0.2, random_state=42)"
   ]
  },
  {
   "cell_type": "code",
   "execution_count": 88,
   "id": "a09209f5-7b14-4f26-a084-981d95b66723",
   "metadata": {
    "tags": []
   },
   "outputs": [
    {
     "name": "stdout",
     "output_type": "stream",
     "text": [
      "[0]\tvalidation_0-mlogloss:0.49620\n",
      "[1]\tvalidation_0-mlogloss:0.37980\n",
      "[2]\tvalidation_0-mlogloss:0.35006\n"
     ]
    }
   ],
   "source": [
    "explained_model = XGBClassifier(n_estimators=3, max_depth=2, learning_rate=1, objective='binary:logistic')\n",
    "explained_model.fit(X_train, y_train, eval_set=[(X_train, y_train)], verbose=True);"
   ]
  },
  {
   "cell_type": "code",
   "execution_count": 97,
   "id": "acf59e9c-3f6b-49fe-af4c-e3fea6d1509f",
   "metadata": {
    "tags": []
   },
   "outputs": [
    {
     "data": {
      "text/plain": [
       "0.8329528411931345"
      ]
     },
     "execution_count": 97,
     "metadata": {},
     "output_type": "execute_result"
    }
   ],
   "source": [
    "explained_model.score(X_test, y_test)"
   ]
  },
  {
   "cell_type": "markdown",
   "id": "38290576-87b7-493c-a30d-b24bb7347ae4",
   "metadata": {},
   "source": [
    "# Train explanation model"
   ]
  }
 ],
 "metadata": {
  "kernelspec": {
   "display_name": "Python (Causal IDS)",
   "language": "python",
   "name": "causal-ids"
  },
  "language_info": {
   "codemirror_mode": {
    "name": "ipython",
    "version": 3
   },
   "file_extension": ".py",
   "mimetype": "text/x-python",
   "name": "python",
   "nbconvert_exporter": "python",
   "pygments_lexer": "ipython3",
   "version": "3.11.2"
  }
 },
 "nbformat": 4,
 "nbformat_minor": 5
}
