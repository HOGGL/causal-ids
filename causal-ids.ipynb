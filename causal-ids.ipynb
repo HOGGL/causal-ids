{
 "cells": [
  {
   "cell_type": "markdown",
   "id": "5b83b616-4f34-4cd5-b75f-8da6c069f360",
   "metadata": {},
   "source": [
    "    This Source Code Form is subject to the terms of the Mozilla Public\n",
    "    License, v. 2.0. If a copy of the MPL was not distributed with this\n",
    "    file, You can obtain one at http://mozilla.org/MPL/2.0/."
   ]
  },
  {
   "cell_type": "markdown",
   "id": "1de58542-4bee-4916-9bed-a912b6d4983f",
   "metadata": {},
   "source": [
    "# Load and preprocess dataset"
   ]
  },
  {
   "cell_type": "markdown",
   "id": "e7b4f8c7-e0d2-4f66-8607-f61992e9c9f6",
   "metadata": {},
   "source": [
    "Load the dataset skipping some columns. This time use the category datatype for the classification column."
   ]
  },
  {
   "cell_type": "code",
   "execution_count": 36,
   "id": "cbe57083-9219-4374-9623-d6b3345b04f9",
   "metadata": {
    "tags": []
   },
   "outputs": [],
   "source": [
    "import pandas as pd\n",
    "from sklearn.preprocessing import StandardScaler"
   ]
  },
  {
   "cell_type": "code",
   "execution_count": 37,
   "id": "6f64aac2-d8a2-4358-b044-b1cd9fa966e8",
   "metadata": {
    "tags": []
   },
   "outputs": [],
   "source": [
    "csv_file = 'datasets/netflow-v1/NF-BoT-IoT.csv'\n",
    "ignore_cols = {'IPV4_SRC_ADDR', 'IPV4_DST_ADDR', 'Label'}"
   ]
  },
  {
   "cell_type": "code",
   "execution_count": 38,
   "id": "08827fec-86e2-41c1-a214-a5635a603b80",
   "metadata": {
    "tags": []
   },
   "outputs": [
    {
     "data": {
      "text/html": [
       "<div>\n",
       "<style scoped>\n",
       "    .dataframe tbody tr th:only-of-type {\n",
       "        vertical-align: middle;\n",
       "    }\n",
       "\n",
       "    .dataframe tbody tr th {\n",
       "        vertical-align: top;\n",
       "    }\n",
       "\n",
       "    .dataframe thead th {\n",
       "        text-align: right;\n",
       "    }\n",
       "</style>\n",
       "<table border=\"1\" class=\"dataframe\">\n",
       "  <thead>\n",
       "    <tr style=\"text-align: right;\">\n",
       "      <th></th>\n",
       "      <th>L4_SRC_PORT</th>\n",
       "      <th>L4_DST_PORT</th>\n",
       "      <th>PROTOCOL</th>\n",
       "      <th>L7_PROTO</th>\n",
       "      <th>IN_BYTES</th>\n",
       "      <th>OUT_BYTES</th>\n",
       "      <th>IN_PKTS</th>\n",
       "      <th>OUT_PKTS</th>\n",
       "      <th>TCP_FLAGS</th>\n",
       "      <th>FLOW_DURATION_MILLISECONDS</th>\n",
       "      <th>Attack</th>\n",
       "    </tr>\n",
       "  </thead>\n",
       "  <tbody>\n",
       "    <tr>\n",
       "      <th>0</th>\n",
       "      <td>52670</td>\n",
       "      <td>53</td>\n",
       "      <td>17</td>\n",
       "      <td>5.212</td>\n",
       "      <td>71</td>\n",
       "      <td>126</td>\n",
       "      <td>1</td>\n",
       "      <td>1</td>\n",
       "      <td>0</td>\n",
       "      <td>4294966</td>\n",
       "      <td>Benign</td>\n",
       "    </tr>\n",
       "    <tr>\n",
       "      <th>1</th>\n",
       "      <td>49160</td>\n",
       "      <td>4444</td>\n",
       "      <td>6</td>\n",
       "      <td>0.000</td>\n",
       "      <td>217753000</td>\n",
       "      <td>199100</td>\n",
       "      <td>4521</td>\n",
       "      <td>4049</td>\n",
       "      <td>24</td>\n",
       "      <td>4176249</td>\n",
       "      <td>Theft</td>\n",
       "    </tr>\n",
       "    <tr>\n",
       "      <th>2</th>\n",
       "      <td>3456</td>\n",
       "      <td>80</td>\n",
       "      <td>17</td>\n",
       "      <td>0.000</td>\n",
       "      <td>8508021</td>\n",
       "      <td>8918372</td>\n",
       "      <td>9086</td>\n",
       "      <td>9086</td>\n",
       "      <td>0</td>\n",
       "      <td>4175916</td>\n",
       "      <td>Benign</td>\n",
       "    </tr>\n",
       "    <tr>\n",
       "      <th>3</th>\n",
       "      <td>80</td>\n",
       "      <td>8080</td>\n",
       "      <td>6</td>\n",
       "      <td>7.000</td>\n",
       "      <td>8442138</td>\n",
       "      <td>9013406</td>\n",
       "      <td>9086</td>\n",
       "      <td>9086</td>\n",
       "      <td>0</td>\n",
       "      <td>4175916</td>\n",
       "      <td>Benign</td>\n",
       "    </tr>\n",
       "    <tr>\n",
       "      <th>4</th>\n",
       "      <td>80</td>\n",
       "      <td>80</td>\n",
       "      <td>6</td>\n",
       "      <td>7.000</td>\n",
       "      <td>8374706</td>\n",
       "      <td>0</td>\n",
       "      <td>9086</td>\n",
       "      <td>0</td>\n",
       "      <td>0</td>\n",
       "      <td>4175916</td>\n",
       "      <td>Benign</td>\n",
       "    </tr>\n",
       "  </tbody>\n",
       "</table>\n",
       "</div>"
      ],
      "text/plain": [
       "   L4_SRC_PORT  L4_DST_PORT  PROTOCOL  L7_PROTO   IN_BYTES  OUT_BYTES  \\\n",
       "0        52670           53        17     5.212         71        126   \n",
       "1        49160         4444         6     0.000  217753000     199100   \n",
       "2         3456           80        17     0.000    8508021    8918372   \n",
       "3           80         8080         6     7.000    8442138    9013406   \n",
       "4           80           80         6     7.000    8374706          0   \n",
       "\n",
       "   IN_PKTS  OUT_PKTS  TCP_FLAGS  FLOW_DURATION_MILLISECONDS  Attack  \n",
       "0        1         1          0                     4294966  Benign  \n",
       "1     4521      4049         24                     4176249   Theft  \n",
       "2     9086      9086          0                     4175916  Benign  \n",
       "3     9086      9086          0                     4175916  Benign  \n",
       "4     9086         0          0                     4175916  Benign  "
      ]
     },
     "execution_count": 38,
     "metadata": {},
     "output_type": "execute_result"
    }
   ],
   "source": [
    "df = pd.read_csv(csv_file,\n",
    "                 usecols=lambda x: x not in ignore_cols,\n",
    "                 dtype={'Attack': 'category'})\n",
    "df.head()"
   ]
  },
  {
   "cell_type": "markdown",
   "id": "88b535e9-42f9-4cc1-849e-5d8c0263fb3a",
   "metadata": {},
   "source": [
    "The decision tree and random forest classifiers work best with unnormalised data but the VAE requires inputs to conform to a standard normal distribution.\n",
    "This is done using the `transform` and `inverse_transform` methods from the `StandardScaler` class. Before use, the scaler must be 'fit' to the data to caluclate the mean and standard deviation for each feature."
   ]
  },
  {
   "cell_type": "code",
   "execution_count": 39,
   "id": "aa5f573b-25a7-4057-80ce-0e93dca44f58",
   "metadata": {
    "tags": []
   },
   "outputs": [],
   "source": [
    "scaler = StandardScaler().fit(df.iloc[:,:-1])"
   ]
  },
  {
   "cell_type": "markdown",
   "id": "e3067995-7ffa-43d7-b30b-89a10b650393",
   "metadata": {},
   "source": [
    "# Train classifier model"
   ]
  },
  {
   "cell_type": "code",
   "execution_count": 40,
   "id": "b70a7db8-2e96-4b8e-aa8c-e21b460d1447",
   "metadata": {
    "tags": []
   },
   "outputs": [],
   "source": [
    "from sklearn.model_selection import train_test_split\n",
    "from xgboost import XGBClassifier"
   ]
  },
  {
   "cell_type": "code",
   "execution_count": 280,
   "id": "ea6b970c-1807-4d51-a65f-63c3816beb20",
   "metadata": {
    "tags": []
   },
   "outputs": [],
   "source": [
    "X, y = df.iloc[:,:-1], df.iloc[:,-1].cat.codes\n",
    "X_train, X_test, y_train, y_test = train_test_split(X, y, random_state=42)"
   ]
  },
  {
   "cell_type": "code",
   "execution_count": 281,
   "id": "82a02929-1df7-45d2-bd2a-c0b3ec08740c",
   "metadata": {
    "tags": []
   },
   "outputs": [],
   "source": [
    "classifier = XGBClassifier(n_estimators=17, tree_method='gpu_hist', random_state=42)\n",
    "classifier.fit(X_train, y_train);"
   ]
  },
  {
   "cell_type": "code",
   "execution_count": 282,
   "id": "096cc544-ec17-49bb-99a6-e6cb33a14ca4",
   "metadata": {
    "tags": []
   },
   "outputs": [
    {
     "data": {
      "text/plain": [
       "'84.06%'"
      ]
     },
     "execution_count": 282,
     "metadata": {},
     "output_type": "execute_result"
    }
   ],
   "source": [
    "\"{:.2%}\".format(classifier.score(X_test, y_test))"
   ]
  },
  {
   "cell_type": "markdown",
   "id": "38290576-87b7-493c-a30d-b24bb7347ae4",
   "metadata": {
    "tags": []
   },
   "source": [
    "# Train explanation model"
   ]
  },
  {
   "cell_type": "markdown",
   "id": "50de84f1-10f8-413d-893a-42bb3358a11b",
   "metadata": {},
   "source": [
    "The VAE implementation is copied from the paper though the model was altered slightly to suit our dataset."
   ]
  },
  {
   "cell_type": "code",
   "execution_count": 451,
   "id": "6ea9eb3a-6c17-4113-b4cd-a118f819f6f1",
   "metadata": {
    "tags": []
   },
   "outputs": [],
   "source": [
    "from collections import Counter\n",
    "\n",
    "import numpy as np\n",
    "import torch\n",
    "import torch.nn as nn\n",
    "\n",
    "from tqdm import tqdm"
   ]
  },
  {
   "cell_type": "markdown",
   "id": "dcf70d69-1cae-4794-b486-f4e5093b8e58",
   "metadata": {},
   "source": [
    "The encoder takes a batch of rows (32 by default) from the training dataset. This is fed forward into a hidden layer first and then into two fully connected layers with outputs of size `z_dim`, which is the size of the latent vector. This is then used to parameterise a normal distribution, which is sampled from to produce the output latents."
   ]
  },
  {
   "cell_type": "code",
   "execution_count": 284,
   "id": "d83ff3ec-5869-4e02-bc95-872e0bb7b96e",
   "metadata": {
    "tags": []
   },
   "outputs": [],
   "source": [
    "class Encoder(nn.Module):\n",
    "    def __init__(self, x_dim, z_dim, hidden_dim=100):\n",
    "        super().__init__()\n",
    "\n",
    "        self.model = nn.Sequential(\n",
    "            nn.Linear(int(x_dim),hidden_dim),\n",
    "            nn.Sigmoid()\n",
    "        )\n",
    "        \n",
    "        self.f_mu = nn.Linear(hidden_dim, z_dim)\n",
    "        self.f_var = nn.Linear(hidden_dim, z_dim)\n",
    "\n",
    "    def encode(self, X):\n",
    "        h1 = self.model(X)\n",
    "        return self.f_mu(h1),self.f_var(h1)\n",
    "    \n",
    "    def reparameterize(self, mu, logvar):\n",
    "        std = torch.exp(0.5*logvar)\n",
    "        eps = torch.randn_like(std)\n",
    "        return mu + eps*std\n",
    "    \n",
    "    def forward(self, X):\n",
    "        mu, logvar = self.encode(X)\n",
    "        z = self.reparameterize(mu, logvar)\n",
    "        return z, mu, logvar"
   ]
  },
  {
   "cell_type": "code",
   "execution_count": 285,
   "id": "5e26440f-d79a-44a5-9f4e-e0c38705ffd7",
   "metadata": {
    "tags": []
   },
   "outputs": [],
   "source": [
    "class Decoder(nn.Module):\n",
    "    def __init__(self, x_dim, z_dim, hidden_dim=100):\n",
    "        super().__init__()\n",
    "\n",
    "        self.model = nn.Sequential(\n",
    "            nn.Linear(z_dim,hidden_dim),\n",
    "            nn.ReLU(),\n",
    "            nn.Linear(hidden_dim,x_dim)\n",
    "        )\n",
    "\n",
    "    def forward(self, z):\n",
    "        X = self.model(z)\n",
    "        return X  "
   ]
  },
  {
   "cell_type": "code",
   "execution_count": 286,
   "id": "fa254293-539e-463e-a8cc-757835359d28",
   "metadata": {
    "tags": []
   },
   "outputs": [],
   "source": [
    "K = 2\n",
    "L = 8"
   ]
  },
  {
   "cell_type": "code",
   "execution_count": 287,
   "id": "b00be26a-b9ba-4328-b17e-eec9e1ff742a",
   "metadata": {
    "tags": []
   },
   "outputs": [],
   "source": [
    "X_train_norm = scaler.transform(X_train)\n",
    "train_loader = torch.utils.data.DataLoader(X_train_norm, batch_size=32)\n",
    "encoder = Encoder(X_train.shape[1], K+L)\n",
    "decoder = Decoder(X_train.shape[1], K+L)\n",
    "decoder.cuda()\n",
    "encoder.cuda();"
   ]
  },
  {
   "cell_type": "code",
   "execution_count": 288,
   "id": "ce2063a0-e106-4c7c-98cd-b485dc97c771",
   "metadata": {
    "tags": []
   },
   "outputs": [],
   "source": [
    "params = list(decoder.parameters()) + list(encoder.parameters())\n",
    "optimizer = torch.optim.Adam(params, lr=0.0001)"
   ]
  },
  {
   "cell_type": "code",
   "execution_count": 301,
   "id": "e0098700-aae4-42fc-9dbb-b83793e151f4",
   "metadata": {
    "tags": []
   },
   "outputs": [],
   "source": [
    "def calc_loss(X, Xhat, z_loc, z_scale):\n",
    "    batch_size = X.shape[0]\n",
    "    sse_loss = torch.nn.MSELoss(reduction = 'sum')\n",
    "    KLD = 1./batch_size + -0.5*torch.sum(1 + z_scale - z_loc.pow(2) - z_scale.exp())\n",
    "    Xhat = torch.Tensor(Xhat).cuda()\n",
    "    mse = 1./batch_size * sse_loss(Xhat, X)\n",
    "    return mse + KLD"
   ]
  },
  {
   "cell_type": "markdown",
   "id": "5c7be2b7-6a36-4375-acb7-34a262d69f11",
   "metadata": {},
   "source": [
    "This is the function from the paper to calculate the \"causal effect\" or mutual information between the causal latents and classifier result. The `Counter` part is a dirty hack as the function expects 'one-hot' encoded classifier output but XGBoost only produces ordinal results."
   ]
  },
  {
   "cell_type": "code",
   "execution_count": 297,
   "id": "9061a5e6-326a-49b0-a021-5301f46667da",
   "metadata": {
    "tags": []
   },
   "outputs": [],
   "source": [
    "eps = 1e-8\n",
    "\n",
    "def C(a: int, b: int, cats: int, *, independent=False, conditional=False):\n",
    "    z = a + b\n",
    "\n",
    "    I = 0.\n",
    "    qs = np.zeros(cats)\n",
    "    for _ in range(a):\n",
    "        alphas = np.random.randn(a)\n",
    "        latents = np.empty((b,z))\n",
    "\n",
    "        for j in range(b):\n",
    "            betas = np.random.randn(b)\n",
    "            latents[j] = np.concatenate((alphas, betas))\n",
    "\n",
    "        Xhat_norm = decoder(torch.from_numpy(latents).cuda().float())\n",
    "        Xhat = scaler.inverse_transform(Xhat_norm.cpu().detach())\n",
    "        df_test = pd.DataFrame(Xhat, columns=X.columns)\n",
    "        \n",
    "        yhat = classifier.predict(df_test)\n",
    "        yhat = [y for _, y in sorted(Counter(yhat).items())]\n",
    "        \n",
    "        ps = np.sum(yhat, axis=0) / b # p(y | alpha)\n",
    "        ps_entropy = np.sum(ps * np.log(ps + eps))\n",
    "        I += ps_entropy / a\n",
    "        qs += ps / a # q(y)\n",
    "    qs_entropy = np.sum(qs * np.log(qs+eps))\n",
    "    I -= qs_entropy\n",
    "    return I"
   ]
  },
  {
   "cell_type": "code",
   "execution_count": 293,
   "id": "9a03385e-2ccc-4ee4-9945-c02aa9581e80",
   "metadata": {
    "tags": []
   },
   "outputs": [],
   "source": [
    "def train(use_cuda=False):\n",
    "    epoch_loss = 0.\n",
    "    \n",
    "    for X in tqdm(train_loader):\n",
    "        if use_cuda:\n",
    "            X = X.cuda()\n",
    "        X = X.float()\n",
    "        optimizer.zero_grad()\n",
    "        z, z_loc, z_scale = encoder(X)\n",
    "        Xhat = scaler.inverse_transform(decoder(z).cpu().detach())\n",
    "        loss = -C(K, L, df['Attack'].cat.categories.size) + 0.05 * calc_loss(X, Xhat, z_loc, z_scale)\n",
    "        loss.backward()\n",
    "        optimizer.step()\n",
    "        epoch_loss += loss\n",
    "    return epoch_loss / train_loader.dataset.shape[0]"
   ]
  },
  {
   "cell_type": "code",
   "execution_count": 302,
   "id": "2016f325-d705-40b1-b600-0dea36ebf7c5",
   "metadata": {
    "tags": []
   },
   "outputs": [
    {
     "name": "stderr",
     "output_type": "stream",
     "text": [
      "100%|████████████████████████████████████████████████████████████████████████████████████████████████████████████████████████████████████████████████| 14065/14065 [05:45<00:00, 40.66it/s]\n"
     ]
    },
    {
     "data": {
      "text/plain": [
       "tensor(2.2238e+10, device='cuda:0', grad_fn=<DivBackward0>)"
      ]
     },
     "execution_count": 302,
     "metadata": {},
     "output_type": "execute_result"
    }
   ],
   "source": [
    "train(True)"
   ]
  },
  {
   "cell_type": "code",
   "execution_count": 303,
   "id": "d153eb71-9ae4-40a4-9a33-2b69f761aeba",
   "metadata": {
    "tags": []
   },
   "outputs": [],
   "source": [
    "X_test_norm = scaler.transform(X_test)"
   ]
  },
  {
   "cell_type": "code",
   "execution_count": 309,
   "id": "32e8941b-0dac-4ada-9c68-a32a6f70e857",
   "metadata": {
    "tags": []
   },
   "outputs": [],
   "source": [
    "z, _, _ = encoder(torch.tensor(X_test_norm).cuda().float())\n",
    "X_test_hat = scaler.inverse_transform(decoder(z).cpu().detach())"
   ]
  },
  {
   "cell_type": "code",
   "execution_count": 310,
   "id": "723004af-7d1d-4ae6-aed3-a38a7f9b69cb",
   "metadata": {
    "tags": []
   },
   "outputs": [
    {
     "data": {
      "text/html": [
       "<div>\n",
       "<style scoped>\n",
       "    .dataframe tbody tr th:only-of-type {\n",
       "        vertical-align: middle;\n",
       "    }\n",
       "\n",
       "    .dataframe tbody tr th {\n",
       "        vertical-align: top;\n",
       "    }\n",
       "\n",
       "    .dataframe thead th {\n",
       "        text-align: right;\n",
       "    }\n",
       "</style>\n",
       "<table border=\"1\" class=\"dataframe\">\n",
       "  <thead>\n",
       "    <tr style=\"text-align: right;\">\n",
       "      <th></th>\n",
       "      <th>L4_SRC_PORT</th>\n",
       "      <th>L4_DST_PORT</th>\n",
       "      <th>PROTOCOL</th>\n",
       "      <th>L7_PROTO</th>\n",
       "      <th>IN_BYTES</th>\n",
       "      <th>OUT_BYTES</th>\n",
       "      <th>IN_PKTS</th>\n",
       "      <th>OUT_PKTS</th>\n",
       "      <th>TCP_FLAGS</th>\n",
       "      <th>FLOW_DURATION_MILLISECONDS</th>\n",
       "    </tr>\n",
       "  </thead>\n",
       "  <tbody>\n",
       "    <tr>\n",
       "      <th>0</th>\n",
       "      <td>49441.630445</td>\n",
       "      <td>4535.121318</td>\n",
       "      <td>5.957367</td>\n",
       "      <td>4.316928</td>\n",
       "      <td>-20070.817899</td>\n",
       "      <td>225201.589038</td>\n",
       "      <td>-24.289550</td>\n",
       "      <td>-96.436631</td>\n",
       "      <td>24.221310</td>\n",
       "      <td>3.375833e+06</td>\n",
       "    </tr>\n",
       "    <tr>\n",
       "      <th>1</th>\n",
       "      <td>48844.493260</td>\n",
       "      <td>10401.785117</td>\n",
       "      <td>5.997656</td>\n",
       "      <td>-3.637923</td>\n",
       "      <td>35001.434427</td>\n",
       "      <td>305919.819421</td>\n",
       "      <td>40.084300</td>\n",
       "      <td>-45.668975</td>\n",
       "      <td>21.616578</td>\n",
       "      <td>3.810941e+06</td>\n",
       "    </tr>\n",
       "    <tr>\n",
       "      <th>2</th>\n",
       "      <td>44978.776688</td>\n",
       "      <td>4787.834187</td>\n",
       "      <td>5.879647</td>\n",
       "      <td>4.171412</td>\n",
       "      <td>-49067.997906</td>\n",
       "      <td>-25953.064851</td>\n",
       "      <td>60.795832</td>\n",
       "      <td>1.339769</td>\n",
       "      <td>23.797595</td>\n",
       "      <td>3.686100e+06</td>\n",
       "    </tr>\n",
       "    <tr>\n",
       "      <th>3</th>\n",
       "      <td>47070.157734</td>\n",
       "      <td>3946.341907</td>\n",
       "      <td>6.024747</td>\n",
       "      <td>-8.466394</td>\n",
       "      <td>138211.235494</td>\n",
       "      <td>205439.639245</td>\n",
       "      <td>-28.006685</td>\n",
       "      <td>-27.754949</td>\n",
       "      <td>22.634254</td>\n",
       "      <td>3.686835e+06</td>\n",
       "    </tr>\n",
       "    <tr>\n",
       "      <th>4</th>\n",
       "      <td>47759.407667</td>\n",
       "      <td>5619.237715</td>\n",
       "      <td>6.505894</td>\n",
       "      <td>-1.572597</td>\n",
       "      <td>171720.356053</td>\n",
       "      <td>425903.542881</td>\n",
       "      <td>-72.519695</td>\n",
       "      <td>50.974016</td>\n",
       "      <td>21.705975</td>\n",
       "      <td>3.711313e+06</td>\n",
       "    </tr>\n",
       "    <tr>\n",
       "      <th>...</th>\n",
       "      <td>...</td>\n",
       "      <td>...</td>\n",
       "      <td>...</td>\n",
       "      <td>...</td>\n",
       "      <td>...</td>\n",
       "      <td>...</td>\n",
       "      <td>...</td>\n",
       "      <td>...</td>\n",
       "      <td>...</td>\n",
       "      <td>...</td>\n",
       "    </tr>\n",
       "    <tr>\n",
       "      <th>150020</th>\n",
       "      <td>48642.147922</td>\n",
       "      <td>3016.264756</td>\n",
       "      <td>6.013393</td>\n",
       "      <td>-5.532205</td>\n",
       "      <td>-211087.301595</td>\n",
       "      <td>183043.278544</td>\n",
       "      <td>-82.980857</td>\n",
       "      <td>-139.560303</td>\n",
       "      <td>23.581319</td>\n",
       "      <td>2.844693e+06</td>\n",
       "    </tr>\n",
       "    <tr>\n",
       "      <th>150021</th>\n",
       "      <td>53999.177966</td>\n",
       "      <td>5617.136242</td>\n",
       "      <td>6.272739</td>\n",
       "      <td>-10.039050</td>\n",
       "      <td>-149112.159713</td>\n",
       "      <td>155973.327340</td>\n",
       "      <td>-37.462396</td>\n",
       "      <td>-86.433347</td>\n",
       "      <td>22.085490</td>\n",
       "      <td>3.084295e+06</td>\n",
       "    </tr>\n",
       "    <tr>\n",
       "      <th>150022</th>\n",
       "      <td>43535.034015</td>\n",
       "      <td>2506.699537</td>\n",
       "      <td>5.938288</td>\n",
       "      <td>-0.300310</td>\n",
       "      <td>-52772.758200</td>\n",
       "      <td>181827.727473</td>\n",
       "      <td>15.568934</td>\n",
       "      <td>-44.966364</td>\n",
       "      <td>25.229510</td>\n",
       "      <td>3.292002e+06</td>\n",
       "    </tr>\n",
       "    <tr>\n",
       "      <th>150023</th>\n",
       "      <td>46042.740891</td>\n",
       "      <td>7354.597081</td>\n",
       "      <td>6.784626</td>\n",
       "      <td>11.142359</td>\n",
       "      <td>-31249.025523</td>\n",
       "      <td>271345.821080</td>\n",
       "      <td>25.115436</td>\n",
       "      <td>30.346044</td>\n",
       "      <td>23.633643</td>\n",
       "      <td>3.577367e+06</td>\n",
       "    </tr>\n",
       "    <tr>\n",
       "      <th>150024</th>\n",
       "      <td>47787.161081</td>\n",
       "      <td>8478.579895</td>\n",
       "      <td>5.875086</td>\n",
       "      <td>-0.561407</td>\n",
       "      <td>-153186.619059</td>\n",
       "      <td>202610.184797</td>\n",
       "      <td>37.977015</td>\n",
       "      <td>-93.248163</td>\n",
       "      <td>22.252987</td>\n",
       "      <td>3.037160e+06</td>\n",
       "    </tr>\n",
       "  </tbody>\n",
       "</table>\n",
       "<p>150025 rows × 10 columns</p>\n",
       "</div>"
      ],
      "text/plain": [
       "         L4_SRC_PORT   L4_DST_PORT  PROTOCOL   L7_PROTO       IN_BYTES  \\\n",
       "0       49441.630445   4535.121318  5.957367   4.316928  -20070.817899   \n",
       "1       48844.493260  10401.785117  5.997656  -3.637923   35001.434427   \n",
       "2       44978.776688   4787.834187  5.879647   4.171412  -49067.997906   \n",
       "3       47070.157734   3946.341907  6.024747  -8.466394  138211.235494   \n",
       "4       47759.407667   5619.237715  6.505894  -1.572597  171720.356053   \n",
       "...              ...           ...       ...        ...            ...   \n",
       "150020  48642.147922   3016.264756  6.013393  -5.532205 -211087.301595   \n",
       "150021  53999.177966   5617.136242  6.272739 -10.039050 -149112.159713   \n",
       "150022  43535.034015   2506.699537  5.938288  -0.300310  -52772.758200   \n",
       "150023  46042.740891   7354.597081  6.784626  11.142359  -31249.025523   \n",
       "150024  47787.161081   8478.579895  5.875086  -0.561407 -153186.619059   \n",
       "\n",
       "            OUT_BYTES    IN_PKTS    OUT_PKTS  TCP_FLAGS  \\\n",
       "0       225201.589038 -24.289550  -96.436631  24.221310   \n",
       "1       305919.819421  40.084300  -45.668975  21.616578   \n",
       "2       -25953.064851  60.795832    1.339769  23.797595   \n",
       "3       205439.639245 -28.006685  -27.754949  22.634254   \n",
       "4       425903.542881 -72.519695   50.974016  21.705975   \n",
       "...               ...        ...         ...        ...   \n",
       "150020  183043.278544 -82.980857 -139.560303  23.581319   \n",
       "150021  155973.327340 -37.462396  -86.433347  22.085490   \n",
       "150022  181827.727473  15.568934  -44.966364  25.229510   \n",
       "150023  271345.821080  25.115436   30.346044  23.633643   \n",
       "150024  202610.184797  37.977015  -93.248163  22.252987   \n",
       "\n",
       "        FLOW_DURATION_MILLISECONDS  \n",
       "0                     3.375833e+06  \n",
       "1                     3.810941e+06  \n",
       "2                     3.686100e+06  \n",
       "3                     3.686835e+06  \n",
       "4                     3.711313e+06  \n",
       "...                            ...  \n",
       "150020                2.844693e+06  \n",
       "150021                3.084295e+06  \n",
       "150022                3.292002e+06  \n",
       "150023                3.577367e+06  \n",
       "150024                3.037160e+06  \n",
       "\n",
       "[150025 rows x 10 columns]"
      ]
     },
     "execution_count": 310,
     "metadata": {},
     "output_type": "execute_result"
    }
   ],
   "source": [
    "df_test = pd.DataFrame(X_test_hat, columns=X.columns)\n",
    "df_test"
   ]
  },
  {
   "cell_type": "code",
   "execution_count": 452,
   "id": "02a2bd5b-8ebd-455a-a8c4-bb0aae51ee01",
   "metadata": {
    "tags": []
   },
   "outputs": [
    {
     "data": {
      "text/plain": [
       "'51.13%'"
      ]
     },
     "execution_count": 452,
     "metadata": {},
     "output_type": "execute_result"
    }
   ],
   "source": [
    "\"{:.2%}\".format(classifier.score(df_test, y_test))"
   ]
  },
  {
   "cell_type": "markdown",
   "id": "f09172b8-7c9c-44ac-9b52-d0a665339373",
   "metadata": {},
   "source": [
    "# Visualisation"
   ]
  },
  {
   "cell_type": "code",
   "execution_count": 427,
   "id": "fecfc6c5-9158-43c1-b810-b97d2b401b59",
   "metadata": {
    "tags": []
   },
   "outputs": [],
   "source": [
    "z_sweep = range(-30, 30, 5)\n",
    "sweep_X = X_test_norm[0]"
   ]
  },
  {
   "cell_type": "code",
   "execution_count": 434,
   "id": "23d88599-f459-45fe-b0f7-91b5359682fd",
   "metadata": {
    "tags": []
   },
   "outputs": [],
   "source": [
    "enc_z, _, _ = encoder(torch.tensor(sweep_X).cuda().float())"
   ]
  },
  {
   "cell_type": "code",
   "execution_count": 435,
   "id": "cd5472f2-a8bb-48ae-a870-1bdd9c011115",
   "metadata": {
    "tags": []
   },
   "outputs": [
    {
     "data": {
      "text/plain": [
       "array([4], dtype=int64)"
      ]
     },
     "execution_count": 435,
     "metadata": {},
     "output_type": "execute_result"
    }
   ],
   "source": [
    "classifier.predict(scaler.inverse_transform(decoder(enc_z).cpu().detach().reshape(1,-1)))"
   ]
  },
  {
   "cell_type": "code",
   "execution_count": 436,
   "id": "d61e8fe9-6900-4ba1-98ae-da1d16e7f37d",
   "metadata": {
    "tags": []
   },
   "outputs": [],
   "source": [
    "zz = []\n",
    "for nudge in z_sweep:\n",
    "    ar = enc_z.clone()\n",
    "    ar[0:K] += nudge\n",
    "    dec_X = scaler.inverse_transform(decoder(ar).cpu().detach().reshape(1, -1))\n",
    "    zz.append((\n",
    "        ar,\n",
    "        dec_X,\n",
    "        classifier.predict(dec_X)\n",
    "    ))"
   ]
  },
  {
   "cell_type": "code",
   "execution_count": 437,
   "id": "27935af9-ba3a-4d61-b10d-fae65393a957",
   "metadata": {
    "tags": []
   },
   "outputs": [
    {
     "name": "stdout",
     "output_type": "stream",
     "text": [
      "Sweeping from -30 to +30 in steps of 10\n",
      "Causal vars: [-30, -30], result: DDoS\n",
      "Causal vars: [-25, -25], result: DDoS\n",
      "Causal vars: [-20, -20], result: DDoS\n",
      "Causal vars: [-15, -15], result: DoS\n",
      "Causal vars: [-10, -10], result: DoS\n",
      "Causal vars: [-5, -5], result: Reconnaissance\n",
      "Causal vars: [0, 0], result: Theft\n",
      "Causal vars: [4, 4], result: Benign\n",
      "Causal vars: [9, 9], result: Reconnaissance\n",
      "Causal vars: [14, 14], result: Reconnaissance\n",
      "Causal vars: [19, 19], result: Reconnaissance\n",
      "Causal vars: [24, 24], result: Reconnaissance\n"
     ]
    }
   ],
   "source": [
    "print(\"Sweeping from -30 to +30 in steps of 5\")\n",
    "cats = df['Attack'].cat.categories\n",
    "for enc, dec, res in zz:\n",
    "    causal = [int(x) for x in enc.tolist()[:K]]\n",
    "    print(f\"Causal vars: {causal}, result: {cats[res][0]}\")"
   ]
  },
  {
   "cell_type": "code",
   "execution_count": 444,
   "id": "1c2225fc-5503-4cdf-aa83-4e329603093e",
   "metadata": {
    "tags": []
   },
   "outputs": [
    {
     "name": "stderr",
     "output_type": "stream",
     "text": [
      "C:\\Users\\lh\\dev\\causal-ids\\.env\\Lib\\site-packages\\sklearn\\base.py:439: UserWarning: X does not have valid feature names, but StandardScaler was fitted with feature names\n",
      "  warnings.warn(\n"
     ]
    }
   ],
   "source": [
    "before = sweep_X\n",
    "after = scaler.transform(zz[7][1])\n",
    "feature_names = df.columns[:-1]"
   ]
  },
  {
   "cell_type": "code",
   "execution_count": 109,
   "id": "84bd05ea-fae7-4a3b-b948-fcf4f6b36a8c",
   "metadata": {
    "tags": []
   },
   "outputs": [],
   "source": [
    "import matplotlib.pyplot as plt"
   ]
  },
  {
   "cell_type": "code",
   "execution_count": 445,
   "id": "7f0a0172-c8cd-4f4f-950f-1495dc1b2514",
   "metadata": {
    "tags": []
   },
   "outputs": [
    {
     "data": {
      "image/png": "[encoded data removed]",
      "text/plain": [
       "<Figure size 640x480 with 1 Axes>"
      ]
     },
     "metadata": {},
     "output_type": "display_data"
    }
   ],
   "source": [
    "plt.scatter(before, feature_names, label='Before')\n",
    "plt.scatter(after, feature_names, label='After')\n",
    "plt.hlines(y=feature_names, xmin=before, xmax=after)\n",
    "plt.legend(loc='upper left')\n",
    "plt.title('Transmute sample #2, Theft$\\\\rightarrow$Benign')\n",
    "plt.xlim([-1,2])\n",
    "plt.savefig('tranmuted_sample.png', bbox_inches = \"tight\");"
   ]
  },
  {
   "cell_type": "code",
   "execution_count": 173,
   "id": "148fda9c-3c5b-4de1-866c-9748ee365c42",
   "metadata": {
    "tags": []
   },
   "outputs": [
    {
     "data": {
      "image/png": "[encoded data removed]",
      "text/plain": [
       "<Figure size 640x480 with 1 Axes>"
      ]
     },
     "metadata": {},
     "output_type": "display_data"
    }
   ],
   "source": [
    "plt.scatter(before, feature_names, label='Before')\n",
    "plt.scatter(after, feature_names, label='After')\n",
    "plt.hlines(y=feature_names, xmin=before, xmax=after)\n",
    "plt.legend(loc='upper left')\n",
    "plt.title('Transmute sample #2, Theft$\\\\rightarrow$Benign')\n",
    "plt.xlim([-1,2])\n",
    "plt.savefig('tranmuted_sample.png', bbox_inches = \"tight\");"
   ]
  },
  {
   "cell_type": "code",
   "execution_count": 131,
   "id": "7079407a-9092-4fce-90f3-2df169166066",
   "metadata": {
    "tags": []
   },
   "outputs": [
    {
     "data": {
      "text/plain": [
       "[(tensor([ -0.2867,  -0.5033, -15.8557, -13.4280, -13.9199, -12.2570, -15.0056,\n",
       "          -14.5525, -14.5837, -14.7357], device='cuda:0', grad_fn=<CopySlices>),\n",
       "  tensor([ 0.0871, -0.1905, -0.1415, -0.4027, -0.4773, -0.2441, -0.0410, -0.5929,\n",
       "          -0.0137,  0.4059], device='cuda:0', grad_fn=<AddBackward0>),\n",
       "  array([3], dtype=int64)),\n",
       " (tensor([ -0.2867,  -0.5033, -10.8557,  -8.4280,  -8.9199,  -7.2570, -10.0056,\n",
       "           -9.5525,  -9.5837,  -9.7357], device='cuda:0', grad_fn=<CopySlices>),\n",
       "  tensor([ 0.0402, -0.1408, -0.0588, -0.2071, -0.3192, -0.1498, -0.0411, -0.3869,\n",
       "          -0.0286,  0.2589], device='cuda:0', grad_fn=<AddBackward0>),\n",
       "  array([3], dtype=int64)),\n",
       " (tensor([-0.2867, -0.5033, -5.8557, -3.4280, -3.9199, -2.2570, -5.0056, -4.5525,\n",
       "          -4.5837, -4.7357], device='cuda:0', grad_fn=<CopySlices>),\n",
       "  tensor([-0.0250, -0.0845,  0.0289, -0.0286, -0.1693, -0.0571, -0.0287, -0.1746,\n",
       "          -0.0314,  0.1025], device='cuda:0', grad_fn=<AddBackward0>),\n",
       "  array([3], dtype=int64)),\n",
       " (tensor([-0.2867, -0.5033, -0.8557,  1.5720,  1.0801,  2.7430, -0.0056,  0.4475,\n",
       "           0.4163,  0.2643], device='cuda:0', grad_fn=<CopySlices>),\n",
       "  tensor([-0.0149,  0.0391, -0.0130, -0.0113,  0.0071, -0.0652, -0.0383, -0.0419,\n",
       "          -0.0050, -0.0028], device='cuda:0', grad_fn=<AddBackward0>),\n",
       "  array([0], dtype=int64)),\n",
       " (tensor([-0.2867, -0.5033,  4.1443,  6.5720,  6.0801,  7.7430,  4.9944,  5.4475,\n",
       "           5.4163,  5.2643], device='cuda:0', grad_fn=<CopySlices>),\n",
       "  tensor([-0.0177,  0.1530,  0.1413, -0.2222, -0.1173,  0.0103,  0.1316,  0.0836,\n",
       "           0.1533, -0.0258], device='cuda:0', grad_fn=<AddBackward0>),\n",
       "  array([3], dtype=int64)),\n",
       " (tensor([-0.2867, -0.5033,  9.1443, 11.5720, 11.0801, 12.7430,  9.9944, 10.4475,\n",
       "          10.4163, 10.2643], device='cuda:0', grad_fn=<CopySlices>),\n",
       "  tensor([-0.0863,  0.1699,  0.2909, -0.3492, -0.2313, -0.0143,  0.2213,  0.0702,\n",
       "           0.2413, -0.0929], device='cuda:0', grad_fn=<AddBackward0>),\n",
       "  array([4], dtype=int64)),\n",
       " (tensor([-0.2867, -0.5033, 14.1443, 16.5720, 16.0801, 17.7430, 14.9944, 15.4475,\n",
       "          15.4163, 15.2643], device='cuda:0', grad_fn=<CopySlices>),\n",
       "  tensor([-0.1681,  0.2261,  0.4690, -0.4459, -0.3490, -0.0209,  0.3001,  0.1035,\n",
       "           0.3648, -0.1396], device='cuda:0', grad_fn=<AddBackward0>),\n",
       "  array([4], dtype=int64))]"
      ]
     },
     "execution_count": 131,
     "metadata": {},
     "output_type": "execute_result"
    }
   ],
   "source": [
    "zz = []\n",
    "for nudge in z_sweep:\n",
    "    ar = enc_z.clone()\n",
    "    ar[-L:] += nudge\n",
    "    dec_X = decoder(ar)\n",
    "    zz.append((\n",
    "        ar,\n",
    "        dec_X,\n",
    "        classifier.predict(dec_X.view([1,10]).cpu().detach())\n",
    "    ))"
   ]
  },
  {
   "cell_type": "code",
   "execution_count": 132,
   "id": "5e3446b8-8cef-447e-bebc-9843b3fcd843",
   "metadata": {
    "tags": []
   },
   "outputs": [
    {
     "name": "stdout",
     "output_type": "stream",
     "text": [
      "Sweeping from -30 to +30 in steps of 10\n",
      "Non-causal vars: [-15, -13, -13, -12, -15, -14, -14, -14], result: Reconnaissance\n",
      "Non-causal vars: [-10, -8, -8, -7, -10, -9, -9, -9], result: Reconnaissance\n",
      "Non-causal vars: [-5, -3, -3, -2, -5, -4, -4, -4], result: Reconnaissance\n",
      "Non-causal vars: [0, 1, 1, 2, 0, 0, 0, 0], result: Benign\n",
      "Non-causal vars: [4, 6, 6, 7, 4, 5, 5, 5], result: Reconnaissance\n",
      "Non-causal vars: [9, 11, 11, 12, 9, 10, 10, 10], result: Theft\n",
      "Non-causal vars: [14, 16, 16, 17, 14, 15, 15, 15], result: Theft\n"
     ]
    }
   ],
   "source": [
    "print(\"Sweeping from -30 to +30 in steps of 5\")\n",
    "cats = df['Attack'].cat.categories\n",
    "for enc, dec, res in zz:\n",
    "    noncausal = [int(x) for x in enc.tolist()[-L:]]\n",
    "    print(f\"Non-causal vars: {noncausal}, result: {cats[res][0]}\")"
   ]
  },
  {
   "cell_type": "code",
   "execution_count": 122,
   "id": "bcc93188-e726-4f9e-ba03-9ea83206bddd",
   "metadata": {
    "tags": []
   },
   "outputs": [
    {
     "name": "stdout",
     "output_type": "stream",
     "text": [
      "Feature importance:\n",
      "L4_SRC_PORT: 0.02\n",
      "L4_DST_PORT: 0.59\n",
      "PROTOCOL: 0.07\n",
      "L7_PROTO: 0.03\n",
      "IN_BYTES: 0.02\n",
      "OUT_BYTES: 0.06\n",
      "IN_PKTS: 0.00\n",
      "OUT_PKTS: 0.04\n",
      "TCP_FLAGS: 0.09\n",
      "FLOW_DURATION_MILLISECONDS: 0.08\n"
     ]
    }
   ],
   "source": [
    "print(\"Feature importance:\")\n",
    "for feature, importance in zip(X.columns, classifier.feature_importances_):\n",
    "    print(f\"{feature}: {importance:.2f}\")"
   ]
  }
 ],
 "metadata": {
  "kernelspec": {
   "display_name": "Python (Causal IDS)",
   "language": "python",
   "name": "causal-ids"
  },
  "language_info": {
   "codemirror_mode": {
    "name": "ipython",
    "version": 3
   },
   "file_extension": ".py",
   "mimetype": "text/x-python",
   "name": "python",
   "nbconvert_exporter": "python",
   "pygments_lexer": "ipython3",
   "version": "3.11.2"
  }
 },
 "nbformat": 4,
 "nbformat_minor": 5
}
